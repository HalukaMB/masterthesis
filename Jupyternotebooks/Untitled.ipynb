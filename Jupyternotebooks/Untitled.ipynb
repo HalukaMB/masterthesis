{
 "cells": [
  {
   "cell_type": "code",
   "execution_count": 1,
   "metadata": {
    "collapsed": false
   },
   "outputs": [
    {
     "name": "stdout",
     "output_type": "stream",
     "text": [
      "[ 0.45667363  0.57435677  0.91914463  0.58186475  0.4171478   0.65249951\n",
      "  0.17796292  0.23399683  0.38208324  0.84034833  0.11165869  0.72166505\n",
      "  0.07693484  0.51205252  0.1502744   0.66342581  0.91549683  0.82952208\n",
      "  0.48874312  0.86248882  0.49822993  0.53516121  0.16602594  0.08765209\n",
      "  0.24709942  0.61672731  0.33509983  0.71021247  0.13598082  0.12655357\n",
      "  0.81687256  0.13560363  0.75276342  0.41187799  0.40839766  0.46628738\n",
      "  0.43237329  0.04379445  0.95276696  0.92706734  0.6604461   0.02446882\n",
      "  0.12132477  0.52812716  0.95049857  0.48951486  0.00189849  0.10013694\n",
      "  0.6182553   0.20929655  0.11520656  0.40028929  0.03433973  0.12945487\n",
      "  0.29062818  0.49701868  0.5585986   0.84126669  0.89054091  0.98961565\n",
      "  0.37238215  0.67166045  0.76641368  0.14069371  0.04172494  0.14434069\n",
      "  0.13612545  0.76952891  0.67862619  0.72859005  0.91459089  0.77187897\n",
      "  0.77207276  0.31959111  0.11034527  0.40409638  0.18367661  0.54538404\n",
      "  0.55803221  0.31200968  0.75696712  0.6809346   0.95861199  0.99926724\n",
      "  0.16002268  0.72415393  0.6881151   0.8296312   0.28989012  0.56699933\n",
      "  0.17276277  0.17125586  0.37016068  0.9080908   0.34487318  0.91973821\n",
      "  0.29864499  0.11313569  0.52814008  0.54718583]\n"
     ]
    },
    {
     "data": {
      "image/png": "[encoded data removed]",
      "text/plain": [
       "<matplotlib.figure.Figure at 0x10532dcc0>"
      ]
     },
     "metadata": {},
     "output_type": "display_data"
    }
   ],
   "source": [
    "import matplotlib.pyplot as plt\n",
    "import numpy as np\n",
    "# create 100 random data items\n",
    "data = np.random.rand(100)\n",
    "print(data)\n",
    "# create an array of values from 0 to 100\n",
    "x = np.arange(100)\n",
    "# create a new matplotlib figure, and plot the data\n",
    "fig = plt.figure()\n",
    "plt.scatter(x, data)\n",
    "plt.show()"
   ]
  },
  {
   "cell_type": "code",
   "execution_count": null,
   "metadata": {
    "collapsed": true
   },
   "outputs": [],
   "source": [
    "yearlist=[\"2011-2012\"]\n",
    "datetimelist=[]\n",
    "for year in yearlist:\n",
    "    newpath = \"Football/\"+year+\"/\" \n",
    "    outputpath = \"Football/\"+year+\"/byteam_GoalsVSDays/\"\n",
    "    if not os.path.exists(outputpath):\n",
    "            os.makedirs(outputpath)\n",
    "    for teamfile in glob.glob(\"Football/\"+year+\"/byteam/*.csv\"):    \n",
    "        #print(teamfile)\n",
    "        teamname= re.match(r\"^.*_(.*)_.*$\",teamfile)\n",
    "        #print (teamname.group(1))\n",
    "        schedule=pd.read_csv(teamfile)\n",
    "        schedule['kickoffdate'] =pd.to_datetime(schedule.kickoffdate)\n",
    "        schedule['kickoffdate'] =schedule['kickoffdate'].dt.date\n",
    "        #df['dates'].dt.date\n",
    "        schedule['kickofftime'] = pd.to_datetime(schedule['kickofftime'],format= '%H:%M' ).dt.time\n",
    "        #schedule['fulltime']=pd.to_datetime(schedule['Date'] + ' ' + schedule['Time'])\n",
    "        #schedule['fulltime']= datetime.datetime.combine(schedule['kickoffdate'],schedule['kickofftime'])\n",
    "        for index, row in schedule.iterrows():\n",
    "            new=\"\"\n",
    "            new=datetime.combine(row['kickoffdate'],row['kickofftime'])\n",
    "            #print(new)\n",
    "            datetimelist.append(new)\n",
    "schedule['kickofftime'].ix[1]"
   ]
  }
 ],
 "metadata": {
  "kernelspec": {
   "display_name": "Python 3",
   "language": "python",
   "name": "python3"
  },
  "language_info": {
   "codemirror_mode": {
    "name": "ipython",
    "version": 3
   },
   "file_extension": ".py",
   "mimetype": "text/x-python",
   "name": "python",
   "nbconvert_exporter": "python",
   "pygments_lexer": "ipython3",
   "version": "3.5.2"
  }
 },
 "nbformat": 4,
 "nbformat_minor": 1
}
