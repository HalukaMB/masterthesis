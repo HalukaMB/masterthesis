{
 "cells": [
  {
   "cell_type": "code",
   "execution_count": 33,
   "metadata": {
    "collapsed": false
   },
   "outputs": [
    {
     "name": "stdout",
     "output_type": "stream",
     "text": [
      ".DS_Store\n"
     ]
    },
    {
     "ename": "UnicodeDecodeError",
     "evalue": "'utf-8' codec can't decode byte 0x8e in position 1063: invalid start byte",
     "output_type": "error",
     "traceback": [
      "\u001b[0;31m---------------------------------------------------------------------------\u001b[0m",
      "\u001b[0;31mUnicodeDecodeError\u001b[0m                        Traceback (most recent call last)",
      "\u001b[0;32m<ipython-input-33-248ab528fdda>\u001b[0m in \u001b[0;36m<module>\u001b[0;34m()\u001b[0m\n\u001b[1;32m     21\u001b[0m     \u001b[0mfilepath\u001b[0m\u001b[0;34m=\u001b[0m\u001b[0;34m(\u001b[0m\u001b[0;34m\"JSON/\"\u001b[0m\u001b[0;34m+\u001b[0m\u001b[0mstr\u001b[0m\u001b[0;34m(\u001b[0m\u001b[0mfile\u001b[0m\u001b[0;34m)\u001b[0m\u001b[0;34m)\u001b[0m\u001b[0;34m\u001b[0m\u001b[0m\n\u001b[1;32m     22\u001b[0m     \u001b[0mprint\u001b[0m\u001b[0;34m(\u001b[0m\u001b[0mfile\u001b[0m\u001b[0;34m)\u001b[0m\u001b[0;34m\u001b[0m\u001b[0m\n\u001b[0;32m---> 23\u001b[0;31m     \u001b[0mdata_json\u001b[0m \u001b[0;34m=\u001b[0m \u001b[0mio\u001b[0m\u001b[0;34m.\u001b[0m\u001b[0mopen\u001b[0m\u001b[0;34m(\u001b[0m\u001b[0mfile\u001b[0m\u001b[0;34m,\u001b[0m \u001b[0mmode\u001b[0m\u001b[0;34m=\u001b[0m\u001b[0;34m'r'\u001b[0m\u001b[0;34m,\u001b[0m \u001b[0mencoding\u001b[0m\u001b[0;34m=\u001b[0m\u001b[0;34m'utf-8'\u001b[0m\u001b[0;34m)\u001b[0m\u001b[0;34m.\u001b[0m\u001b[0mread\u001b[0m\u001b[0;34m(\u001b[0m\u001b[0;34m)\u001b[0m\u001b[0;34m\u001b[0m\u001b[0m\n\u001b[0m\u001b[1;32m     24\u001b[0m     \u001b[0mfilecount\u001b[0m\u001b[0;34m+=\u001b[0m\u001b[0;36m1\u001b[0m\u001b[0;34m\u001b[0m\u001b[0m\n\u001b[1;32m     25\u001b[0m     \u001b[0mprint\u001b[0m\u001b[0;34m(\u001b[0m\u001b[0mfile\u001b[0m\u001b[0;34m)\u001b[0m\u001b[0;34m\u001b[0m\u001b[0m\n",
      "\u001b[0;32m/Library/Frameworks/Python.framework/Versions/3.5/lib/python3.5/codecs.py\u001b[0m in \u001b[0;36mdecode\u001b[0;34m(self, input, final)\u001b[0m\n\u001b[1;32m    319\u001b[0m         \u001b[0;31m# decode input (taking the buffer into account)\u001b[0m\u001b[0;34m\u001b[0m\u001b[0;34m\u001b[0m\u001b[0m\n\u001b[1;32m    320\u001b[0m         \u001b[0mdata\u001b[0m \u001b[0;34m=\u001b[0m \u001b[0mself\u001b[0m\u001b[0;34m.\u001b[0m\u001b[0mbuffer\u001b[0m \u001b[0;34m+\u001b[0m \u001b[0minput\u001b[0m\u001b[0;34m\u001b[0m\u001b[0m\n\u001b[0;32m--> 321\u001b[0;31m         \u001b[0;34m(\u001b[0m\u001b[0mresult\u001b[0m\u001b[0;34m,\u001b[0m \u001b[0mconsumed\u001b[0m\u001b[0;34m)\u001b[0m \u001b[0;34m=\u001b[0m \u001b[0mself\u001b[0m\u001b[0;34m.\u001b[0m\u001b[0m_buffer_decode\u001b[0m\u001b[0;34m(\u001b[0m\u001b[0mdata\u001b[0m\u001b[0;34m,\u001b[0m \u001b[0mself\u001b[0m\u001b[0;34m.\u001b[0m\u001b[0merrors\u001b[0m\u001b[0;34m,\u001b[0m \u001b[0mfinal\u001b[0m\u001b[0;34m)\u001b[0m\u001b[0;34m\u001b[0m\u001b[0m\n\u001b[0m\u001b[1;32m    322\u001b[0m         \u001b[0;31m# keep undecoded input until the next call\u001b[0m\u001b[0;34m\u001b[0m\u001b[0;34m\u001b[0m\u001b[0m\n\u001b[1;32m    323\u001b[0m         \u001b[0mself\u001b[0m\u001b[0;34m.\u001b[0m\u001b[0mbuffer\u001b[0m \u001b[0;34m=\u001b[0m \u001b[0mdata\u001b[0m\u001b[0;34m[\u001b[0m\u001b[0mconsumed\u001b[0m\u001b[0;34m:\u001b[0m\u001b[0;34m]\u001b[0m\u001b[0;34m\u001b[0m\u001b[0m\n",
      "\u001b[0;31mUnicodeDecodeError\u001b[0m: 'utf-8' codec can't decode byte 0x8e in position 1063: invalid start byte"
     ]
    }
   ],
   "source": [
    "import csv, glob, re, io, json, time, os\n",
    "from datetime import datetime\n",
    "localtime = datetime.now().strftime(\"%Y-%b-%d\")\n",
    "\n",
    "filecount=0\n",
    "\n",
    "day=(str(localtime))\n",
    "\n",
    "#print(str(localtime))\n",
    "csv_out = io.open(\"JSONtoCSV/\"+str(day)+\".csv\", mode='w', encoding='utf-8') #opens csv file\n",
    "\n",
    "files = glob.glob(\"JSON/\"+\"*.json\")\n",
    "print(type(files))\n",
    "files.sort(key=os.path.getmtime)\n",
    "print(type(files))\n",
    "#print(\",\".join(files))\n",
    "for file in files:\n",
    "    data_json = io.open(file, mode='r', encoding='utf-8').read()\n",
    "    filecount+=1\n",
    "    #print(file)\n",
    "    #reads in the JSON file\n",
    "    try:\n",
    "        data_python = json.loads(data_json)\n",
    "    except ValueError:\n",
    "        data_python=\"\"\n",
    "    print(\"file number: \", filecount)\n",
    "\n",
    "    if filecount>95:\n",
    "            break\n",
    "\n",
    "    fields = u'created_at,text,rt_text,quoted_text,tweet_id,screen_name,followers,user_id,friends,rt,fav' #field names\n",
    "    csv_out.write(fields)\n",
    "    csv_out.write(u'\\n')\n",
    "    for line in data_python:\n",
    "\n",
    "            #print(line)\n",
    "            #writes a row and gets the fields from the json object\n",
    "            #screen_name and followers/friends are found on the second level hence two get methods\n",
    "\n",
    "            rt_text=\"\"\n",
    "            quoted_text=\"\"\n",
    "\n",
    "            if line.get('quoted_status'):\n",
    "                    #print(\"Quote\")\n",
    "                    if line.get('quoted_status').get('extended_tweet'):\n",
    "                        quoted_text=line['quoted_status']['extended_tweet']['full_text']\n",
    "                        quoted_text=('\"' + quoted_text.replace('\"','').replace(\"'\",\"\") + '\"')\n",
    "\n",
    "            if line.get('retweeted_status'):\n",
    "                    #print(\"Retweet\")\n",
    "                    rt_text=line['retweeted_status']['text']\n",
    "                    rt_text=('\"' + rt_text.replace('\"','').replace(\"'\",\"\") + '\"')\n",
    "                    if line.get('retweeted_status').get('quoted_status'):\n",
    "                        quoted_text=line['retweeted_status']['quoted_status']['text']\n",
    "                        quoted_text=('\"' + quoted_text.replace('\"','').replace(\"'\",\"\") + '\"')\n",
    "\n",
    "            if line.get('text') != None:\n",
    "                    #print(\"Text\")\n",
    "                    text=line.get('text')\n",
    "                    text=('\"' + text.replace('\"','').replace(\"'\",\"\") + '\"')\n",
    "\n",
    "                    row = [line.get('created_at'),\n",
    "                               text, \n",
    "                               rt_text,\n",
    "                               quoted_text,#creates double quotes\n",
    "                               line.get('id_str'),\n",
    "                               line.get('user').get('screen_name'),\n",
    "                               (line.get('user').get('followers_count')),\n",
    "                               (line.get('user').get('id_str')),\n",
    "                               (line.get('user').get('friends_count')),\n",
    "                               (line.get('retweet_count')),\n",
    "                               (line.get('favorite_count'))]\n",
    "            else:\n",
    "                row=\"\"\n",
    "\n",
    "            row_joined = (str(row).strip('[').strip(']'))\n",
    "            csv_out.write(row_joined)\n",
    "            csv_out.write(u'\\n')\n",
    "\n",
    "csv_out.close()"
   ]
  },
  {
   "cell_type": "code",
   "execution_count": null,
   "metadata": {
    "collapsed": true
   },
   "outputs": [],
   "source": []
  }
 ],
 "metadata": {
  "kernelspec": {
   "display_name": "Python 3",
   "language": "python",
   "name": "python3"
  },
  "language_info": {
   "codemirror_mode": {
    "name": "ipython",
    "version": 3
   },
   "file_extension": ".py",
   "mimetype": "text/x-python",
   "name": "python",
   "nbconvert_exporter": "python",
   "pygments_lexer": "ipython3",
   "version": "3.5.2"
  }
 },
 "nbformat": 4,
 "nbformat_minor": 1
}
