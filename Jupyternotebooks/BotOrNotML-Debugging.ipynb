{
 "cells": [
  {
   "cell_type": "code",
   "execution_count": 93,
   "metadata": {
    "collapsed": false
   },
   "outputs": [],
   "source": [
    "import sklearn\n",
    "import numpy as np\n",
    "import pandas as pd\n",
    "from sklearn.model_selection import train_test_split\n",
    "from sklearn.tree import DecisionTreeClassifier, export_graphviz"
   ]
  },
  {
   "cell_type": "code",
   "execution_count": 94,
   "metadata": {
    "collapsed": false
   },
   "outputs": [],
   "source": [
    "traindata = pd.read_csv('/Users/halukamaier-borst/Documents/CardiffUniversity/Master Thesis/botornotREL/botornotfridayREL.csv', sep=',',quotechar=\"'\", \n",
    "                  engine='python')"
   ]
  },
  {
   "cell_type": "code",
   "execution_count": 95,
   "metadata": {
    "collapsed": false
   },
   "outputs": [
    {
     "data": {
      "text/html": [
       "<div>\n",
       "<table border=\"1\" class=\"dataframe\">\n",
       "  <thead>\n",
       "    <tr style=\"text-align: right;\">\n",
       "      <th></th>\n",
       "      <th>botornot</th>\n",
       "      <th>DotcountREL</th>\n",
       "      <th>CommacountREL</th>\n",
       "      <th>ExclcountREL</th>\n",
       "      <th>WordcountREL</th>\n",
       "      <th>UppercasecountREL</th>\n",
       "      <th>LowercasecountREL</th>\n",
       "      <th>SpecialcharREL</th>\n",
       "      <th>NumbercountREL</th>\n",
       "      <th>CharcountREL</th>\n",
       "      <th>UniquewordsREL</th>\n",
       "      <th>QuotescountREL</th>\n",
       "      <th>OpenparREL</th>\n",
       "      <th>CloseparREL</th>\n",
       "      <th>OperatorcountREL</th>\n",
       "      <th>HashtagcountREL</th>\n",
       "      <th>DottycountREL</th>\n",
       "      <th>LinkcountREL</th>\n",
       "    </tr>\n",
       "  </thead>\n",
       "  <tbody>\n",
       "    <tr>\n",
       "      <th>count</th>\n",
       "      <td>10000.000000</td>\n",
       "      <td>10000.000000</td>\n",
       "      <td>10000.000000</td>\n",
       "      <td>10000.000000</td>\n",
       "      <td>10000.000000</td>\n",
       "      <td>10000.000000</td>\n",
       "      <td>10000.000000</td>\n",
       "      <td>10000.000000</td>\n",
       "      <td>10000.000000</td>\n",
       "      <td>10000.0</td>\n",
       "      <td>10000.000000</td>\n",
       "      <td>10000.000000</td>\n",
       "      <td>10000.000000</td>\n",
       "      <td>10000.000000</td>\n",
       "      <td>10000.000000</td>\n",
       "      <td>10000.000000</td>\n",
       "      <td>10000.000000</td>\n",
       "      <td>10000.000000</td>\n",
       "    </tr>\n",
       "    <tr>\n",
       "      <th>mean</th>\n",
       "      <td>0.500000</td>\n",
       "      <td>1.048700</td>\n",
       "      <td>0.951129</td>\n",
       "      <td>1.101895</td>\n",
       "      <td>0.994960</td>\n",
       "      <td>1.035137</td>\n",
       "      <td>0.992291</td>\n",
       "      <td>1.029229</td>\n",
       "      <td>1.055989</td>\n",
       "      <td>1.0</td>\n",
       "      <td>0.994960</td>\n",
       "      <td>1.065005</td>\n",
       "      <td>0.976302</td>\n",
       "      <td>1.000545</td>\n",
       "      <td>1.062910</td>\n",
       "      <td>0.982777</td>\n",
       "      <td>1.037239</td>\n",
       "      <td>1.063326</td>\n",
       "    </tr>\n",
       "    <tr>\n",
       "      <th>std</th>\n",
       "      <td>0.500025</td>\n",
       "      <td>1.040368</td>\n",
       "      <td>1.980388</td>\n",
       "      <td>5.362384</td>\n",
       "      <td>0.196005</td>\n",
       "      <td>0.792643</td>\n",
       "      <td>0.112110</td>\n",
       "      <td>0.370380</td>\n",
       "      <td>1.372733</td>\n",
       "      <td>0.0</td>\n",
       "      <td>0.196005</td>\n",
       "      <td>0.384810</td>\n",
       "      <td>7.663381</td>\n",
       "      <td>7.992418</td>\n",
       "      <td>0.936580</td>\n",
       "      <td>2.301252</td>\n",
       "      <td>4.670571</td>\n",
       "      <td>0.983897</td>\n",
       "    </tr>\n",
       "    <tr>\n",
       "      <th>min</th>\n",
       "      <td>0.000000</td>\n",
       "      <td>0.000000</td>\n",
       "      <td>0.000000</td>\n",
       "      <td>0.000000</td>\n",
       "      <td>0.295154</td>\n",
       "      <td>0.000000</td>\n",
       "      <td>0.000000</td>\n",
       "      <td>0.190406</td>\n",
       "      <td>0.000000</td>\n",
       "      <td>1.0</td>\n",
       "      <td>0.295154</td>\n",
       "      <td>0.737656</td>\n",
       "      <td>0.000000</td>\n",
       "      <td>0.000000</td>\n",
       "      <td>0.000000</td>\n",
       "      <td>0.000000</td>\n",
       "      <td>0.000000</td>\n",
       "      <td>0.000000</td>\n",
       "    </tr>\n",
       "    <tr>\n",
       "      <th>25%</th>\n",
       "      <td>0.000000</td>\n",
       "      <td>0.665670</td>\n",
       "      <td>0.000000</td>\n",
       "      <td>0.000000</td>\n",
       "      <td>0.862497</td>\n",
       "      <td>0.561985</td>\n",
       "      <td>0.934335</td>\n",
       "      <td>0.778932</td>\n",
       "      <td>0.000000</td>\n",
       "      <td>1.0</td>\n",
       "      <td>0.862497</td>\n",
       "      <td>0.880229</td>\n",
       "      <td>0.000000</td>\n",
       "      <td>0.000000</td>\n",
       "      <td>0.000000</td>\n",
       "      <td>0.000000</td>\n",
       "      <td>0.000000</td>\n",
       "      <td>0.000000</td>\n",
       "    </tr>\n",
       "    <tr>\n",
       "      <th>50%</th>\n",
       "      <td>0.500000</td>\n",
       "      <td>0.778709</td>\n",
       "      <td>0.000000</td>\n",
       "      <td>0.000000</td>\n",
       "      <td>0.991547</td>\n",
       "      <td>0.883460</td>\n",
       "      <td>1.008074</td>\n",
       "      <td>0.981779</td>\n",
       "      <td>0.574332</td>\n",
       "      <td>1.0</td>\n",
       "      <td>0.991547</td>\n",
       "      <td>0.943668</td>\n",
       "      <td>0.000000</td>\n",
       "      <td>0.000000</td>\n",
       "      <td>1.264632</td>\n",
       "      <td>0.000000</td>\n",
       "      <td>0.000000</td>\n",
       "      <td>1.360887</td>\n",
       "    </tr>\n",
       "    <tr>\n",
       "      <th>75%</th>\n",
       "      <td>1.000000</td>\n",
       "      <td>1.387279</td>\n",
       "      <td>2.466323</td>\n",
       "      <td>0.000000</td>\n",
       "      <td>1.128481</td>\n",
       "      <td>1.314054</td>\n",
       "      <td>1.068943</td>\n",
       "      <td>1.226487</td>\n",
       "      <td>1.598142</td>\n",
       "      <td>1.0</td>\n",
       "      <td>1.128481</td>\n",
       "      <td>1.091117</td>\n",
       "      <td>0.000000</td>\n",
       "      <td>0.000000</td>\n",
       "      <td>1.699997</td>\n",
       "      <td>0.000000</td>\n",
       "      <td>0.000000</td>\n",
       "      <td>1.627728</td>\n",
       "    </tr>\n",
       "    <tr>\n",
       "      <th>max</th>\n",
       "      <td>1.000000</td>\n",
       "      <td>15.007837</td>\n",
       "      <td>41.105382</td>\n",
       "      <td>169.110752</td>\n",
       "      <td>1.765137</td>\n",
       "      <td>11.972494</td>\n",
       "      <td>1.250928</td>\n",
       "      <td>4.526168</td>\n",
       "      <td>19.691396</td>\n",
       "      <td>1.0</td>\n",
       "      <td>1.765137</td>\n",
       "      <td>8.728933</td>\n",
       "      <td>193.976296</td>\n",
       "      <td>193.976296</td>\n",
       "      <td>5.363784</td>\n",
       "      <td>25.427904</td>\n",
       "      <td>61.768605</td>\n",
       "      <td>5.725111</td>\n",
       "    </tr>\n",
       "  </tbody>\n",
       "</table>\n",
       "</div>"
      ],
      "text/plain": [
       "           botornot   DotcountREL  CommacountREL  ExclcountREL  WordcountREL  \\\n",
       "count  10000.000000  10000.000000   10000.000000  10000.000000  10000.000000   \n",
       "mean       0.500000      1.048700       0.951129      1.101895      0.994960   \n",
       "std        0.500025      1.040368       1.980388      5.362384      0.196005   \n",
       "min        0.000000      0.000000       0.000000      0.000000      0.295154   \n",
       "25%        0.000000      0.665670       0.000000      0.000000      0.862497   \n",
       "50%        0.500000      0.778709       0.000000      0.000000      0.991547   \n",
       "75%        1.000000      1.387279       2.466323      0.000000      1.128481   \n",
       "max        1.000000     15.007837      41.105382    169.110752      1.765137   \n",
       "\n",
       "       UppercasecountREL  LowercasecountREL  SpecialcharREL  NumbercountREL  \\\n",
       "count       10000.000000       10000.000000    10000.000000    10000.000000   \n",
       "mean            1.035137           0.992291        1.029229        1.055989   \n",
       "std             0.792643           0.112110        0.370380        1.372733   \n",
       "min             0.000000           0.000000        0.190406        0.000000   \n",
       "25%             0.561985           0.934335        0.778932        0.000000   \n",
       "50%             0.883460           1.008074        0.981779        0.574332   \n",
       "75%             1.314054           1.068943        1.226487        1.598142   \n",
       "max            11.972494           1.250928        4.526168       19.691396   \n",
       "\n",
       "       CharcountREL  UniquewordsREL  QuotescountREL    OpenparREL  \\\n",
       "count       10000.0    10000.000000    10000.000000  10000.000000   \n",
       "mean            1.0        0.994960        1.065005      0.976302   \n",
       "std             0.0        0.196005        0.384810      7.663381   \n",
       "min             1.0        0.295154        0.737656      0.000000   \n",
       "25%             1.0        0.862497        0.880229      0.000000   \n",
       "50%             1.0        0.991547        0.943668      0.000000   \n",
       "75%             1.0        1.128481        1.091117      0.000000   \n",
       "max             1.0        1.765137        8.728933    193.976296   \n",
       "\n",
       "        CloseparREL  OperatorcountREL  HashtagcountREL  DottycountREL  \\\n",
       "count  10000.000000      10000.000000     10000.000000   10000.000000   \n",
       "mean       1.000545          1.062910         0.982777       1.037239   \n",
       "std        7.992418          0.936580         2.301252       4.670571   \n",
       "min        0.000000          0.000000         0.000000       0.000000   \n",
       "25%        0.000000          0.000000         0.000000       0.000000   \n",
       "50%        0.000000          1.264632         0.000000       0.000000   \n",
       "75%        0.000000          1.699997         0.000000       0.000000   \n",
       "max      193.976296          5.363784        25.427904      61.768605   \n",
       "\n",
       "       LinkcountREL  \n",
       "count  10000.000000  \n",
       "mean       1.063326  \n",
       "std        0.983897  \n",
       "min        0.000000  \n",
       "25%        0.000000  \n",
       "50%        1.360887  \n",
       "75%        1.627728  \n",
       "max        5.725111  "
      ]
     },
     "execution_count": 95,
     "metadata": {},
     "output_type": "execute_result"
    }
   ],
   "source": [
    "traindata=traindata.drop(\"id\",axis=1)\n",
    "traindata.describe()"
   ]
  },
  {
   "cell_type": "code",
   "execution_count": 96,
   "metadata": {
    "collapsed": false
   },
   "outputs": [
    {
     "data": {
      "text/html": [
       "<div>\n",
       "<table border=\"1\" class=\"dataframe\">\n",
       "  <thead>\n",
       "    <tr style=\"text-align: right;\">\n",
       "      <th></th>\n",
       "      <th>DotcountREL</th>\n",
       "      <th>CommacountREL</th>\n",
       "      <th>ExclcountREL</th>\n",
       "      <th>WordcountREL</th>\n",
       "      <th>UppercasecountREL</th>\n",
       "      <th>LowercasecountREL</th>\n",
       "      <th>SpecialcharREL</th>\n",
       "      <th>NumbercountREL</th>\n",
       "      <th>CharcountREL</th>\n",
       "      <th>UniquewordsREL</th>\n",
       "      <th>QuotescountREL</th>\n",
       "      <th>OpenparREL</th>\n",
       "      <th>CloseparREL</th>\n",
       "      <th>OperatorcountREL</th>\n",
       "      <th>HashtagcountREL</th>\n",
       "      <th>DottycountREL</th>\n",
       "      <th>LinkcountREL</th>\n",
       "    </tr>\n",
       "  </thead>\n",
       "  <tbody>\n",
       "    <tr>\n",
       "      <th>count</th>\n",
       "      <td>10000.000000</td>\n",
       "      <td>10000.000000</td>\n",
       "      <td>10000.000000</td>\n",
       "      <td>10000.000000</td>\n",
       "      <td>10000.000000</td>\n",
       "      <td>10000.000000</td>\n",
       "      <td>10000.000000</td>\n",
       "      <td>10000.000000</td>\n",
       "      <td>10000.0</td>\n",
       "      <td>10000.000000</td>\n",
       "      <td>10000.000000</td>\n",
       "      <td>10000.000000</td>\n",
       "      <td>10000.000000</td>\n",
       "      <td>10000.000000</td>\n",
       "      <td>10000.000000</td>\n",
       "      <td>10000.000000</td>\n",
       "      <td>10000.000000</td>\n",
       "    </tr>\n",
       "    <tr>\n",
       "      <th>mean</th>\n",
       "      <td>1.048700</td>\n",
       "      <td>0.951129</td>\n",
       "      <td>1.101895</td>\n",
       "      <td>0.994960</td>\n",
       "      <td>1.035137</td>\n",
       "      <td>0.992291</td>\n",
       "      <td>1.029229</td>\n",
       "      <td>1.055989</td>\n",
       "      <td>1.0</td>\n",
       "      <td>0.994960</td>\n",
       "      <td>1.065005</td>\n",
       "      <td>0.976302</td>\n",
       "      <td>1.000545</td>\n",
       "      <td>1.062910</td>\n",
       "      <td>0.982777</td>\n",
       "      <td>1.037239</td>\n",
       "      <td>1.063326</td>\n",
       "    </tr>\n",
       "    <tr>\n",
       "      <th>std</th>\n",
       "      <td>1.040368</td>\n",
       "      <td>1.980388</td>\n",
       "      <td>5.362384</td>\n",
       "      <td>0.196005</td>\n",
       "      <td>0.792643</td>\n",
       "      <td>0.112110</td>\n",
       "      <td>0.370380</td>\n",
       "      <td>1.372733</td>\n",
       "      <td>0.0</td>\n",
       "      <td>0.196005</td>\n",
       "      <td>0.384810</td>\n",
       "      <td>7.663381</td>\n",
       "      <td>7.992418</td>\n",
       "      <td>0.936580</td>\n",
       "      <td>2.301252</td>\n",
       "      <td>4.670571</td>\n",
       "      <td>0.983897</td>\n",
       "    </tr>\n",
       "    <tr>\n",
       "      <th>min</th>\n",
       "      <td>0.000000</td>\n",
       "      <td>0.000000</td>\n",
       "      <td>0.000000</td>\n",
       "      <td>0.295154</td>\n",
       "      <td>0.000000</td>\n",
       "      <td>0.000000</td>\n",
       "      <td>0.190406</td>\n",
       "      <td>0.000000</td>\n",
       "      <td>1.0</td>\n",
       "      <td>0.295154</td>\n",
       "      <td>0.737656</td>\n",
       "      <td>0.000000</td>\n",
       "      <td>0.000000</td>\n",
       "      <td>0.000000</td>\n",
       "      <td>0.000000</td>\n",
       "      <td>0.000000</td>\n",
       "      <td>0.000000</td>\n",
       "    </tr>\n",
       "    <tr>\n",
       "      <th>25%</th>\n",
       "      <td>0.665670</td>\n",
       "      <td>0.000000</td>\n",
       "      <td>0.000000</td>\n",
       "      <td>0.862497</td>\n",
       "      <td>0.561985</td>\n",
       "      <td>0.934335</td>\n",
       "      <td>0.778932</td>\n",
       "      <td>0.000000</td>\n",
       "      <td>1.0</td>\n",
       "      <td>0.862497</td>\n",
       "      <td>0.880229</td>\n",
       "      <td>0.000000</td>\n",
       "      <td>0.000000</td>\n",
       "      <td>0.000000</td>\n",
       "      <td>0.000000</td>\n",
       "      <td>0.000000</td>\n",
       "      <td>0.000000</td>\n",
       "    </tr>\n",
       "    <tr>\n",
       "      <th>50%</th>\n",
       "      <td>0.778709</td>\n",
       "      <td>0.000000</td>\n",
       "      <td>0.000000</td>\n",
       "      <td>0.991547</td>\n",
       "      <td>0.883460</td>\n",
       "      <td>1.008074</td>\n",
       "      <td>0.981779</td>\n",
       "      <td>0.574332</td>\n",
       "      <td>1.0</td>\n",
       "      <td>0.991547</td>\n",
       "      <td>0.943668</td>\n",
       "      <td>0.000000</td>\n",
       "      <td>0.000000</td>\n",
       "      <td>1.264632</td>\n",
       "      <td>0.000000</td>\n",
       "      <td>0.000000</td>\n",
       "      <td>1.360887</td>\n",
       "    </tr>\n",
       "    <tr>\n",
       "      <th>75%</th>\n",
       "      <td>1.387279</td>\n",
       "      <td>2.466323</td>\n",
       "      <td>0.000000</td>\n",
       "      <td>1.128481</td>\n",
       "      <td>1.314054</td>\n",
       "      <td>1.068943</td>\n",
       "      <td>1.226487</td>\n",
       "      <td>1.598142</td>\n",
       "      <td>1.0</td>\n",
       "      <td>1.128481</td>\n",
       "      <td>1.091117</td>\n",
       "      <td>0.000000</td>\n",
       "      <td>0.000000</td>\n",
       "      <td>1.699997</td>\n",
       "      <td>0.000000</td>\n",
       "      <td>0.000000</td>\n",
       "      <td>1.627728</td>\n",
       "    </tr>\n",
       "    <tr>\n",
       "      <th>max</th>\n",
       "      <td>15.007837</td>\n",
       "      <td>41.105382</td>\n",
       "      <td>169.110752</td>\n",
       "      <td>1.765137</td>\n",
       "      <td>11.972494</td>\n",
       "      <td>1.250928</td>\n",
       "      <td>4.526168</td>\n",
       "      <td>19.691396</td>\n",
       "      <td>1.0</td>\n",
       "      <td>1.765137</td>\n",
       "      <td>8.728933</td>\n",
       "      <td>193.976296</td>\n",
       "      <td>193.976296</td>\n",
       "      <td>5.363784</td>\n",
       "      <td>25.427904</td>\n",
       "      <td>61.768605</td>\n",
       "      <td>5.725111</td>\n",
       "    </tr>\n",
       "  </tbody>\n",
       "</table>\n",
       "</div>"
      ],
      "text/plain": [
       "        DotcountREL  CommacountREL  ExclcountREL  WordcountREL  \\\n",
       "count  10000.000000   10000.000000  10000.000000  10000.000000   \n",
       "mean       1.048700       0.951129      1.101895      0.994960   \n",
       "std        1.040368       1.980388      5.362384      0.196005   \n",
       "min        0.000000       0.000000      0.000000      0.295154   \n",
       "25%        0.665670       0.000000      0.000000      0.862497   \n",
       "50%        0.778709       0.000000      0.000000      0.991547   \n",
       "75%        1.387279       2.466323      0.000000      1.128481   \n",
       "max       15.007837      41.105382    169.110752      1.765137   \n",
       "\n",
       "       UppercasecountREL  LowercasecountREL  SpecialcharREL  NumbercountREL  \\\n",
       "count       10000.000000       10000.000000    10000.000000    10000.000000   \n",
       "mean            1.035137           0.992291        1.029229        1.055989   \n",
       "std             0.792643           0.112110        0.370380        1.372733   \n",
       "min             0.000000           0.000000        0.190406        0.000000   \n",
       "25%             0.561985           0.934335        0.778932        0.000000   \n",
       "50%             0.883460           1.008074        0.981779        0.574332   \n",
       "75%             1.314054           1.068943        1.226487        1.598142   \n",
       "max            11.972494           1.250928        4.526168       19.691396   \n",
       "\n",
       "       CharcountREL  UniquewordsREL  QuotescountREL    OpenparREL  \\\n",
       "count       10000.0    10000.000000    10000.000000  10000.000000   \n",
       "mean            1.0        0.994960        1.065005      0.976302   \n",
       "std             0.0        0.196005        0.384810      7.663381   \n",
       "min             1.0        0.295154        0.737656      0.000000   \n",
       "25%             1.0        0.862497        0.880229      0.000000   \n",
       "50%             1.0        0.991547        0.943668      0.000000   \n",
       "75%             1.0        1.128481        1.091117      0.000000   \n",
       "max             1.0        1.765137        8.728933    193.976296   \n",
       "\n",
       "        CloseparREL  OperatorcountREL  HashtagcountREL  DottycountREL  \\\n",
       "count  10000.000000      10000.000000     10000.000000   10000.000000   \n",
       "mean       1.000545          1.062910         0.982777       1.037239   \n",
       "std        7.992418          0.936580         2.301252       4.670571   \n",
       "min        0.000000          0.000000         0.000000       0.000000   \n",
       "25%        0.000000          0.000000         0.000000       0.000000   \n",
       "50%        0.000000          1.264632         0.000000       0.000000   \n",
       "75%        0.000000          1.699997         0.000000       0.000000   \n",
       "max      193.976296          5.363784        25.427904      61.768605   \n",
       "\n",
       "       LinkcountREL  \n",
       "count  10000.000000  \n",
       "mean       1.063326  \n",
       "std        0.983897  \n",
       "min        0.000000  \n",
       "25%        0.000000  \n",
       "50%        1.360887  \n",
       "75%        1.627728  \n",
       "max        5.725111  "
      ]
     },
     "execution_count": 96,
     "metadata": {},
     "output_type": "execute_result"
    }
   ],
   "source": [
    "Y=traindata[\"botornot\"]\n",
    "del traindata['botornot']\n",
    "X=traindata\n",
    "X.describe()"
   ]
  },
  {
   "cell_type": "code",
   "execution_count": 97,
   "metadata": {
    "collapsed": false
   },
   "outputs": [],
   "source": [
    "testdata = pd.read_csv('/Users/halukamaier-borst/Documents/CardiffUniversity/Master Thesis/botornotREL/botornotsaturdayREL.csv', sep=',',quotechar=\"'\", \n",
    "                  engine='python')"
   ]
  },
  {
   "cell_type": "code",
   "execution_count": 98,
   "metadata": {
    "collapsed": false
   },
   "outputs": [],
   "source": [
    "testdata=testdata.drop(\"id\",axis=1)\n"
   ]
  },
  {
   "cell_type": "code",
   "execution_count": 99,
   "metadata": {
    "collapsed": false
   },
   "outputs": [
    {
     "data": {
      "text/html": [
       "<div>\n",
       "<table border=\"1\" class=\"dataframe\">\n",
       "  <thead>\n",
       "    <tr style=\"text-align: right;\">\n",
       "      <th></th>\n",
       "      <th>DotcountREL</th>\n",
       "      <th>CommacountREL</th>\n",
       "      <th>ExclcountREL</th>\n",
       "      <th>WordcountREL</th>\n",
       "      <th>UppercasecountREL</th>\n",
       "      <th>LowercasecountREL</th>\n",
       "      <th>SpecialcharREL</th>\n",
       "      <th>NumbercountREL</th>\n",
       "      <th>CharcountREL</th>\n",
       "      <th>UniquewordsREL</th>\n",
       "      <th>QuotescountREL</th>\n",
       "      <th>OpenparREL</th>\n",
       "      <th>CloseparREL</th>\n",
       "      <th>OperatorcountREL</th>\n",
       "      <th>HashtagcountREL</th>\n",
       "      <th>DottycountREL</th>\n",
       "      <th>LinkcountREL</th>\n",
       "    </tr>\n",
       "  </thead>\n",
       "  <tbody>\n",
       "    <tr>\n",
       "      <th>count</th>\n",
       "      <td>10000.000000</td>\n",
       "      <td>10000.000000</td>\n",
       "      <td>10000.000000</td>\n",
       "      <td>10000.000000</td>\n",
       "      <td>10000.000000</td>\n",
       "      <td>10000.000000</td>\n",
       "      <td>10000.000000</td>\n",
       "      <td>10000.000000</td>\n",
       "      <td>10000.0</td>\n",
       "      <td>10000.000000</td>\n",
       "      <td>10000.000000</td>\n",
       "      <td>10000.000000</td>\n",
       "      <td>10000.000000</td>\n",
       "      <td>10000.000000</td>\n",
       "      <td>10000.000000</td>\n",
       "      <td>10000.000000</td>\n",
       "      <td>10000.000000</td>\n",
       "    </tr>\n",
       "    <tr>\n",
       "      <th>mean</th>\n",
       "      <td>1.043946</td>\n",
       "      <td>0.948893</td>\n",
       "      <td>1.071567</td>\n",
       "      <td>0.994051</td>\n",
       "      <td>1.042333</td>\n",
       "      <td>0.990926</td>\n",
       "      <td>1.033878</td>\n",
       "      <td>1.041724</td>\n",
       "      <td>1.0</td>\n",
       "      <td>0.994051</td>\n",
       "      <td>1.071245</td>\n",
       "      <td>0.963339</td>\n",
       "      <td>0.960119</td>\n",
       "      <td>1.080510</td>\n",
       "      <td>0.959728</td>\n",
       "      <td>1.037350</td>\n",
       "      <td>1.074498</td>\n",
       "    </tr>\n",
       "    <tr>\n",
       "      <th>std</th>\n",
       "      <td>1.108602</td>\n",
       "      <td>1.863565</td>\n",
       "      <td>4.650867</td>\n",
       "      <td>0.203933</td>\n",
       "      <td>0.845079</td>\n",
       "      <td>0.123796</td>\n",
       "      <td>0.388387</td>\n",
       "      <td>1.276352</td>\n",
       "      <td>0.0</td>\n",
       "      <td>0.203933</td>\n",
       "      <td>0.395418</td>\n",
       "      <td>7.729956</td>\n",
       "      <td>7.835826</td>\n",
       "      <td>1.000659</td>\n",
       "      <td>2.178733</td>\n",
       "      <td>4.428331</td>\n",
       "      <td>0.978045</td>\n",
       "    </tr>\n",
       "    <tr>\n",
       "      <th>min</th>\n",
       "      <td>0.000000</td>\n",
       "      <td>0.000000</td>\n",
       "      <td>0.000000</td>\n",
       "      <td>0.283103</td>\n",
       "      <td>0.000000</td>\n",
       "      <td>0.000000</td>\n",
       "      <td>0.193238</td>\n",
       "      <td>0.000000</td>\n",
       "      <td>1.0</td>\n",
       "      <td>0.283103</td>\n",
       "      <td>0.664688</td>\n",
       "      <td>0.000000</td>\n",
       "      <td>0.000000</td>\n",
       "      <td>0.000000</td>\n",
       "      <td>0.000000</td>\n",
       "      <td>0.000000</td>\n",
       "      <td>0.000000</td>\n",
       "    </tr>\n",
       "    <tr>\n",
       "      <th>25%</th>\n",
       "      <td>0.603988</td>\n",
       "      <td>0.000000</td>\n",
       "      <td>0.000000</td>\n",
       "      <td>0.855076</td>\n",
       "      <td>0.513109</td>\n",
       "      <td>0.926918</td>\n",
       "      <td>0.772953</td>\n",
       "      <td>0.000000</td>\n",
       "      <td>1.0</td>\n",
       "      <td>0.855076</td>\n",
       "      <td>0.878741</td>\n",
       "      <td>0.000000</td>\n",
       "      <td>0.000000</td>\n",
       "      <td>0.000000</td>\n",
       "      <td>0.000000</td>\n",
       "      <td>0.000000</td>\n",
       "      <td>0.000000</td>\n",
       "    </tr>\n",
       "    <tr>\n",
       "      <th>50%</th>\n",
       "      <td>0.788363</td>\n",
       "      <td>0.000000</td>\n",
       "      <td>0.000000</td>\n",
       "      <td>0.989127</td>\n",
       "      <td>0.897941</td>\n",
       "      <td>1.010212</td>\n",
       "      <td>0.984772</td>\n",
       "      <td>0.679835</td>\n",
       "      <td>1.0</td>\n",
       "      <td>0.989127</td>\n",
       "      <td>0.934157</td>\n",
       "      <td>0.000000</td>\n",
       "      <td>0.000000</td>\n",
       "      <td>1.285439</td>\n",
       "      <td>0.000000</td>\n",
       "      <td>0.000000</td>\n",
       "      <td>1.334611</td>\n",
       "    </tr>\n",
       "    <tr>\n",
       "      <th>75%</th>\n",
       "      <td>1.313938</td>\n",
       "      <td>2.083073</td>\n",
       "      <td>0.000000</td>\n",
       "      <td>1.132412</td>\n",
       "      <td>1.330284</td>\n",
       "      <td>1.075132</td>\n",
       "      <td>1.236059</td>\n",
       "      <td>1.627321</td>\n",
       "      <td>1.0</td>\n",
       "      <td>1.132412</td>\n",
       "      <td>1.103100</td>\n",
       "      <td>0.000000</td>\n",
       "      <td>0.000000</td>\n",
       "      <td>1.751587</td>\n",
       "      <td>0.000000</td>\n",
       "      <td>0.000000</td>\n",
       "      <td>1.614879</td>\n",
       "    </tr>\n",
       "    <tr>\n",
       "      <th>max</th>\n",
       "      <td>21.097035</td>\n",
       "      <td>32.848454</td>\n",
       "      <td>88.534324</td>\n",
       "      <td>1.893251</td>\n",
       "      <td>11.493650</td>\n",
       "      <td>1.251890</td>\n",
       "      <td>4.587398</td>\n",
       "      <td>14.003327</td>\n",
       "      <td>1.0</td>\n",
       "      <td>1.893251</td>\n",
       "      <td>7.406529</td>\n",
       "      <td>130.298316</td>\n",
       "      <td>149.626840</td>\n",
       "      <td>7.179930</td>\n",
       "      <td>22.803953</td>\n",
       "      <td>53.156904</td>\n",
       "      <td>5.568549</td>\n",
       "    </tr>\n",
       "  </tbody>\n",
       "</table>\n",
       "</div>"
      ],
      "text/plain": [
       "        DotcountREL  CommacountREL  ExclcountREL  WordcountREL  \\\n",
       "count  10000.000000   10000.000000  10000.000000  10000.000000   \n",
       "mean       1.043946       0.948893      1.071567      0.994051   \n",
       "std        1.108602       1.863565      4.650867      0.203933   \n",
       "min        0.000000       0.000000      0.000000      0.283103   \n",
       "25%        0.603988       0.000000      0.000000      0.855076   \n",
       "50%        0.788363       0.000000      0.000000      0.989127   \n",
       "75%        1.313938       2.083073      0.000000      1.132412   \n",
       "max       21.097035      32.848454     88.534324      1.893251   \n",
       "\n",
       "       UppercasecountREL  LowercasecountREL  SpecialcharREL  NumbercountREL  \\\n",
       "count       10000.000000       10000.000000    10000.000000    10000.000000   \n",
       "mean            1.042333           0.990926        1.033878        1.041724   \n",
       "std             0.845079           0.123796        0.388387        1.276352   \n",
       "min             0.000000           0.000000        0.193238        0.000000   \n",
       "25%             0.513109           0.926918        0.772953        0.000000   \n",
       "50%             0.897941           1.010212        0.984772        0.679835   \n",
       "75%             1.330284           1.075132        1.236059        1.627321   \n",
       "max            11.493650           1.251890        4.587398       14.003327   \n",
       "\n",
       "       CharcountREL  UniquewordsREL  QuotescountREL    OpenparREL  \\\n",
       "count       10000.0    10000.000000    10000.000000  10000.000000   \n",
       "mean            1.0        0.994051        1.071245      0.963339   \n",
       "std             0.0        0.203933        0.395418      7.729956   \n",
       "min             1.0        0.283103        0.664688      0.000000   \n",
       "25%             1.0        0.855076        0.878741      0.000000   \n",
       "50%             1.0        0.989127        0.934157      0.000000   \n",
       "75%             1.0        1.132412        1.103100      0.000000   \n",
       "max             1.0        1.893251        7.406529    130.298316   \n",
       "\n",
       "        CloseparREL  OperatorcountREL  HashtagcountREL  DottycountREL  \\\n",
       "count  10000.000000      10000.000000     10000.000000   10000.000000   \n",
       "mean       0.960119          1.080510         0.959728       1.037350   \n",
       "std        7.835826          1.000659         2.178733       4.428331   \n",
       "min        0.000000          0.000000         0.000000       0.000000   \n",
       "25%        0.000000          0.000000         0.000000       0.000000   \n",
       "50%        0.000000          1.285439         0.000000       0.000000   \n",
       "75%        0.000000          1.751587         0.000000       0.000000   \n",
       "max      149.626840          7.179930        22.803953      53.156904   \n",
       "\n",
       "       LinkcountREL  \n",
       "count  10000.000000  \n",
       "mean       1.074498  \n",
       "std        0.978045  \n",
       "min        0.000000  \n",
       "25%        0.000000  \n",
       "50%        1.334611  \n",
       "75%        1.614879  \n",
       "max        5.568549  "
      ]
     },
     "execution_count": 99,
     "metadata": {},
     "output_type": "execute_result"
    }
   ],
   "source": [
    "Y_test=testdata[\"botornot\"]\n",
    "del testdata['botornot']\n",
    "X_test=testdata\n",
    "X_test.describe()"
   ]
  },
  {
   "cell_type": "code",
   "execution_count": 100,
   "metadata": {
    "collapsed": false
   },
   "outputs": [],
   "source": [
    "X_test=np.array(X_test)"
   ]
  },
  {
   "cell_type": "code",
   "execution_count": 101,
   "metadata": {
    "collapsed": false
   },
   "outputs": [],
   "source": [
    "#export_graphviz(dtree, feature_names=traindata.columns)"
   ]
  },
  {
   "cell_type": "code",
   "execution_count": 102,
   "metadata": {
    "collapsed": false
   },
   "outputs": [],
   "source": [
    "#!dot -Tpng tree.dot -o treeBOT.png"
   ]
  },
  {
   "cell_type": "code",
   "execution_count": 103,
   "metadata": {
    "collapsed": false
   },
   "outputs": [],
   "source": [
    "dtree = DecisionTreeClassifier(criterion='gini', splitter='best', max_features=0.6, max_depth=5, min_samples_split=2, min_samples_leaf=2, min_weight_fraction_leaf=0.0, random_state=None, max_leaf_nodes=None, min_impurity_split=0.2, class_weight=None, presort=False)"
   ]
  },
  {
   "cell_type": "code",
   "execution_count": 104,
   "metadata": {
    "collapsed": false
   },
   "outputs": [
    {
     "data": {
      "text/plain": [
       "DecisionTreeClassifier(class_weight=None, criterion='gini', max_depth=5,\n",
       "            max_features=0.6, max_leaf_nodes=None, min_impurity_split=0.2,\n",
       "            min_samples_leaf=2, min_samples_split=2,\n",
       "            min_weight_fraction_leaf=0.0, presort=False, random_state=None,\n",
       "            splitter='best')"
      ]
     },
     "execution_count": 104,
     "metadata": {},
     "output_type": "execute_result"
    }
   ],
   "source": [
    "dtree.fit(X,Y)"
   ]
  },
  {
   "cell_type": "code",
   "execution_count": null,
   "metadata": {
    "collapsed": false
   },
   "outputs": [],
   "source": []
  },
  {
   "cell_type": "code",
   "execution_count": 105,
   "metadata": {
    "collapsed": true
   },
   "outputs": [],
   "source": [
    "from sklearn import metrics"
   ]
  },
  {
   "cell_type": "code",
   "execution_count": 106,
   "metadata": {
    "collapsed": false
   },
   "outputs": [
    {
     "data": {
      "text/plain": [
       "0.40910000000000002"
      ]
     },
     "execution_count": 106,
     "metadata": {},
     "output_type": "execute_result"
    }
   ],
   "source": [
    "metrics.mean_absolute_error(Y_test, dtree.predict(X_test))"
   ]
  },
  {
   "cell_type": "code",
   "execution_count": 107,
   "metadata": {
    "collapsed": false
   },
   "outputs": [
    {
     "data": {
      "text/plain": [
       "0.59089999999999998"
      ]
     },
     "execution_count": 107,
     "metadata": {},
     "output_type": "execute_result"
    }
   ],
   "source": [
    "metrics.accuracy_score(Y_test, dtree.predict(X_test))"
   ]
  },
  {
   "cell_type": "markdown",
   "metadata": {
    "collapsed": false
   },
   "source": []
  },
  {
   "cell_type": "code",
   "execution_count": 88,
   "metadata": {
    "collapsed": true
   },
   "outputs": [],
   "source": [
    "from sklearn.ensemble import RandomForestClassifier\n",
    "rf = RandomForestClassifier()"
   ]
  },
  {
   "cell_type": "code",
   "execution_count": 89,
   "metadata": {
    "collapsed": false
   },
   "outputs": [],
   "source": [
    "X=np.array(X)"
   ]
  },
  {
   "cell_type": "code",
   "execution_count": 90,
   "metadata": {
    "collapsed": false
   },
   "outputs": [
    {
     "data": {
      "text/plain": [
       "RandomForestClassifier(bootstrap=True, class_weight=None, criterion='gini',\n",
       "            max_depth=None, max_features='auto', max_leaf_nodes=None,\n",
       "            min_impurity_split=1e-07, min_samples_leaf=1,\n",
       "            min_samples_split=2, min_weight_fraction_leaf=0.0,\n",
       "            n_estimators=10, n_jobs=1, oob_score=False, random_state=None,\n",
       "            verbose=0, warm_start=False)"
      ]
     },
     "execution_count": 90,
     "metadata": {},
     "output_type": "execute_result"
    }
   ],
   "source": [
    "rf.fit(X,Y)"
   ]
  },
  {
   "cell_type": "code",
   "execution_count": 91,
   "metadata": {
    "collapsed": false
   },
   "outputs": [
    {
     "name": "stdout",
     "output_type": "stream",
     "text": [
      "0.4821\n"
     ]
    }
   ],
   "source": [
    "pred_test = rf.predict(X_test)\n",
    "print (metrics.mean_absolute_error(Y_test,pred_test))"
   ]
  },
  {
   "cell_type": "code",
   "execution_count": 92,
   "metadata": {
    "collapsed": false
   },
   "outputs": [
    {
     "data": {
      "text/plain": [
       "0.51790000000000003"
      ]
     },
     "execution_count": 92,
     "metadata": {},
     "output_type": "execute_result"
    }
   ],
   "source": [
    "metrics.accuracy_score(Y_test,pred_test)"
   ]
  },
  {
   "cell_type": "code",
   "execution_count": 73,
   "metadata": {
    "collapsed": true
   },
   "outputs": [],
   "source": [
    "from sklearn import svm\n",
    "clf = svm.SVC()"
   ]
  },
  {
   "cell_type": "code",
   "execution_count": 423,
   "metadata": {
    "collapsed": false
   },
   "outputs": [
    {
     "data": {
      "text/plain": [
       "0.92079999999999995"
      ]
     },
     "execution_count": 423,
     "metadata": {},
     "output_type": "execute_result"
    }
   ],
   "source": [
    "clf.fit(X,Y)\n",
    "metrics.mean_absolute_error(Y_test, clf.predict(X_test))"
   ]
  },
  {
   "cell_type": "code",
   "execution_count": 424,
   "metadata": {
    "collapsed": false
   },
   "outputs": [
    {
     "data": {
      "text/plain": [
       "0.53959999999999997"
      ]
     },
     "execution_count": 424,
     "metadata": {},
     "output_type": "execute_result"
    }
   ],
   "source": [
    "metrics.accuracy_score(Y_test, clf.predict(X_test))"
   ]
  },
  {
   "cell_type": "code",
   "execution_count": null,
   "metadata": {
    "collapsed": true
   },
   "outputs": [],
   "source": []
  }
 ],
 "metadata": {
  "kernelspec": {
   "display_name": "Python 3",
   "language": "python",
   "name": "python3"
  },
  "language_info": {
   "codemirror_mode": {
    "name": "ipython",
    "version": 3
   },
   "file_extension": ".py",
   "mimetype": "text/x-python",
   "name": "python",
   "nbconvert_exporter": "python",
   "pygments_lexer": "ipython3",
   "version": "3.5.2"
  }
 },
 "nbformat": 4,
 "nbformat_minor": 1
}
