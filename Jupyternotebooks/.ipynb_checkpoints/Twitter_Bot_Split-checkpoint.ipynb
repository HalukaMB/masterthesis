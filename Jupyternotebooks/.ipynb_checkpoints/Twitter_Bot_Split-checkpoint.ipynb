{
 "cells": [
  {
   "cell_type": "code",
   "execution_count": 1,
   "metadata": {
    "collapsed": false
   },
   "outputs": [],
   "source": [
    "import pandas as pd\n",
    "import re\n",
    "import io\n"
   ]
  },
  {
   "cell_type": "code",
   "execution_count": 2,
   "metadata": {
    "collapsed": false
   },
   "outputs": [
    {
     "name": "stdout",
     "output_type": "stream",
     "text": [
      "                       created_at  \\\n",
      "0  Fri Jun 23 09:15:01 +0000 2017   \n",
      "1  Fri Jun 23 09:15:02 +0000 2017   \n",
      "2  Fri Jun 23 09:15:02 +0000 2017   \n",
      "3  Fri Jun 23 09:15:02 +0000 2017   \n",
      "4  Fri Jun 23 09:15:02 +0000 2017   \n",
      "\n",
      "                                                text     screen_name  \\\n",
      "0  \"RT @cathynewman: Undercover in the secretive ...     wh33liedave   \n",
      "1  \"RT @MiriamChadwick1: @PeoplesMomentum Its tha...   RainbowReeves   \n",
      "2  \"RT @SocialistVoice: As snobby Tory Kensington...    ferguson2811   \n",
      "3  \"RT @Staedtler: The tide has turned against th...  catherinemginn   \n",
      "4  \"RT @GlouthGraham: The tories broke election l...       EarwigLLe   \n",
      "\n",
      "  followers                  id friends rt fav  \n",
      "0        40          3514790122     243  0   0  \n",
      "1       268  781099215720222720     387  0   0  \n",
      "2       952          2857046853     946  0   0  \n",
      "3       806          1065190608     708  0   0  \n",
      "4       184  786498436203966464     302  0   0  \n"
     ]
    }
   ],
   "source": [
    "data = pd.read_csv('/Users/halukamaier-borst/Documents/CardiffUniversity/Master Thesis/friday.csv', skipinitialspace = True, quotechar = \"'\")\n",
    "print(data.head(5))"
   ]
  },
  {
   "cell_type": "code",
   "execution_count": 3,
   "metadata": {
    "collapsed": false
   },
   "outputs": [
    {
     "name": "stdout",
     "output_type": "stream",
     "text": [
      "                            created_at  \\\n",
      "118345  Fri Jun 23 18:40:32 +0000 2017   \n",
      "62188   Fri Jun 23 14:03:51 +0000 2017   \n",
      "175842  Fri Jun 23 23:32:31 +0000 2017   \n",
      "182661  Sat Jun 24 00:42:08 +0000 2017   \n",
      "91773   Fri Jun 23 16:32:35 +0000 2017   \n",
      "\n",
      "                                                     text     screen_name  \\\n",
      "118345  \"RT @iLuvChanelle: Wow .. I didnt know this wa...        BeysRani   \n",
      "62188   \"Dont miss our event \\nWOMEN’S STRUGGLE IN THE...      vkatsardis   \n",
      "175842  \"RT @Dxpth: Nahhh Im dead Theresa may get heck...  trinidadchainz   \n",
      "182661  \"Revealed: Inside the secretive Tory election ...   IrishrebelTim   \n",
      "91773   \"RT @cath_haddon: Not so privately then... htt...    adwooldridge   \n",
      "\n",
      "       followers          id friends rt fav  \n",
      "118345       997  1000165092    1093  0   0  \n",
      "62188       1246   100017919    2031  0   0  \n",
      "175842       330  1000213178     747  0   0  \n",
      "182661        31  1000223083      47  0   0  \n",
      "91773       9580  1000228238     896  0   0  \n"
     ]
    }
   ],
   "source": [
    "data=data.sort_values(by='id')\n",
    "print(data.head(5))"
   ]
  },
  {
   "cell_type": "code",
   "execution_count": 4,
   "metadata": {
    "collapsed": false
   },
   "outputs": [
    {
     "name": "stdout",
     "output_type": "stream",
     "text": [
      "['1004220360', '1051463708', '1108577893', '112184737', '115182311', '1166154594', '1216227440', '122715940', '1249600058', '1259137987', '1262391883', '1286786994', '1324379436', '137000468', '138597964', '1389178064', '1434950630', '1444368715', '144659042', '146422118', '148485582', '1502204768', '151588549', '159069189', '1645025486', '16648445', '1702368948', '174748955', '178730312', '1844651430', '1851425833', '187147866', '1964735263', '20055151', '20164025', '20338751', '20754491', '209988094', '210163237', '21195986', '213038249', '2190315380', '22299071', '2239458156', '2243508517', '226512656', '229670513', '23227936', '2370724255', '237669302', '2392144432', '241502713', '243280033', '243580239', '2450064166', '245532240', '248777189', '2491232172', '250653751', '251762257', '2519858199', '2521578683', '2547505012', '2595978877', '259975018', '265918773', '2699160330', '2718164052', '2719770929', '2726025501', '2734460614', '2743684155', '2753671978', '27839828', '2785418944', '279176310', '2800466323', '28191537', '2840378924', '2844025499', '2912926151', '2919011364', '292619181', '29400624', '2943798075', '296367001', '297443753', '3008266792', '30196444', '3021174959', '303414800', '303827284', '310535567', '313488283', '319619581', '3197149114', '3222584008', '3227070693', '3231068674', '3233633442', '3243403917', '3248453770', '325688284', '3259375172', '3263253388', '3293897116', '3300989014', '332410091', '3340908196', '337291312', '3375472841', '3408892947', '3422058208', '347810094', '351347712', '352515896', '389023499', '389516094', '390150468', '39473185', '3950928695', '409116367', '413070329', '414989540', '420326282', '4264297743', '452445727', '464236980', '467603037', '473793876', '4815242721', '4843970686', '505058687', '51397964', '540740530', '542400979', '54999242', '55602088', '56363520', '576177906', '598190764', '601811894', '636188854', '66204495', '704382900033200128', '711687657370329089', '713285621', '71658760', '719446423192866816', '723251650174017536', '726099958013792257', '727435232782200832', '727662870', '733793368673792005', '734112761639276544', '739094150075813888', '739118222', '743745586332000256', '743903491937210368', '744480047789146112', '746985479992709120', '747112729152987137', '749148084534407169', '749657379688607744', '749710462661562368', '750781552053878788', '757497355721699328', '758652669925949441', '759939776', '760245251839762432', '764914283679510528', '768759099387416576', '769133605469691908', '771406283299774465', '779346928609951744', '780840449963532288', '785195784', '78586449', '792611888915972096', '794141743017054208', '796403446958194693', '79769567', '798516085796536321', '800458427172470788', '80414884', '816610692648357888', '820873536738918400', '821798222045868032', '822568250227785728', '822692077', '823596686626979841', '830108138980388866', '835790976392257536', '835975173660631042', '844126543819476992', '846738623647158272', '854293892547710976', '854992874148179968', '855408793282379777', '857892534', '858261808787927040', '859761876510683136', '868523826447089664', '86934793', '870564538009169922', '870705205267922946', '870721401279442948', '873465869350862850', '874546010311229441', '875352859', '875723286486949890', '875728890723016704', '876072658298961920', '876076652329041920', '876222338', '876348129838338048', '876411310606622720', '876739573484855297', '877038913176645632', '877043567532834816', '877105561132818433', '877122281658601472', '877164231069761536', '9570042', 'id']\n",
      "225\n"
     ]
    }
   ],
   "source": [
    "id=0\n",
    "counter=0\n",
    "botlist=[]\n",
    "for cell in data[\"id\"]:\n",
    "    if counter>49:\n",
    "        if id not in botlist:\n",
    "            botlist.append(id)\n",
    "        else:\n",
    "            pass\n",
    "    if cell != id:\n",
    "        id=cell\n",
    "        counter=0\n",
    "    else:\n",
    "        counter+=1\n",
    "\n",
    "print(botlist)\n",
    "print(len(botlist))"
   ]
  },
  {
   "cell_type": "code",
   "execution_count": 5,
   "metadata": {
    "collapsed": false
   },
   "outputs": [
    {
     "name": "stdout",
     "output_type": "stream",
     "text": [
      "                                                     text          id\n",
      "118345  \"RT @iLuvChanelle: Wow .. I didnt know this wa...  1000165092\n",
      "62188   \"Dont miss our event \\nWOMEN’S STRUGGLE IN THE...   100017919\n",
      "175842  \"RT @Dxpth: Nahhh Im dead Theresa may get heck...  1000213178\n",
      "182661  \"Revealed: Inside the secretive Tory election ...  1000223083\n",
      "91773   \"RT @cath_haddon: Not so privately then... htt...  1000228238\n"
     ]
    }
   ],
   "source": [
    "frames=[data[\"text\"], data[\"id\"],]\n",
    "reduced_data=pd.concat([data[\"text\"], data[\"id\"],], axis=1)\n",
    "print(reduced_data.head(5))"
   ]
  },
  {
   "cell_type": "code",
   "execution_count": 6,
   "metadata": {
    "collapsed": false
   },
   "outputs": [
    {
     "name": "stdout",
     "output_type": "stream",
     "text": [
      "['\"@Independent @inigem Jeremy Corbyn is the BEST PERSON &amp; BEST MAN for the job of UK\"', '\"RT @jeremycorbyn: Trade Unions such as Unison have given @UKLabour fantastic support and were integral to our achievements in the… \"', '\"@jeremycorbyn @wavemich43 @JonAshworth Another well PLANTED Tory audience in bbcqt last night which has become the… https://t.co/AyLGDjlhcf\"', '\"@NameChangeGirl @merseyview Have they realised what Tories &amp; r/w media where trying to do Sarah\"', '\"RT @UKLabour: Read &amp; RT @jeremycorbyn’s statement on today’s High Court ruling: The Tories’ Benefit Cap unlawfully discriminates… \"']\n"
     ]
    }
   ],
   "source": [
    "botsample=[]\n",
    "normalsample=[]\n",
    "for index, row in reduced_data.iterrows():\n",
    "    if(row['id'])in botlist:\n",
    "        botsample.append(row['text'])\n",
    "    else:\n",
    "        normalsample.append(row['text'])\n",
    "print(botsample[0:5])"
   ]
  },
  {
   "cell_type": "code",
   "execution_count": 7,
   "metadata": {
    "collapsed": false
   },
   "outputs": [
    {
     "name": "stdout",
     "output_type": "stream",
     "text": [
      "                                                text  botornot\n",
      "0  \"RT @iLuvChanelle: Wow .. I didnt know this wa...        -1\n",
      "1  \"Dont miss our event \\nWOMEN’S STRUGGLE IN THE...        -1\n",
      "2  \"RT @Dxpth: Nahhh Im dead Theresa may get heck...        -1\n",
      "3  \"Revealed: Inside the secretive Tory election ...        -1\n",
      "4  \"RT @cath_haddon: Not so privately then... htt...        -1\n",
      "                                                text  botornot\n",
      "0  \"@Independent @inigem Jeremy Corbyn is the BES...         1\n",
      "1  \"RT @jeremycorbyn: Trade Unions such as Unison...         1\n",
      "2  \"@jeremycorbyn @wavemich43 @JonAshworth Anothe...         1\n",
      "3  \"@NameChangeGirl @merseyview Have they realise...         1\n",
      "4  \"RT @UKLabour: Read &amp; RT @jeremycorbyn’s s...         1\n"
     ]
    }
   ],
   "source": [
    "botdf=pd.DataFrame()\n",
    "botdf[\"text\"]=botsample\n",
    "botdf[\"botornot\"]=1\n",
    "normaldf=pd.DataFrame()\n",
    "normaldf[\"text\"]=normalsample\n",
    "normaldf[\"botornot\"]=-1\n",
    "normaldf.reset_index(drop=True, inplace=True)\n",
    "botdf.reset_index(drop=True, inplace=True)\n",
    "normaldf = normaldf[normaldf.text != 'text']\n",
    "botdf = botdf[botdf.text != 'text']\n",
    "\n",
    "print(normaldf.head(5))\n",
    "print(botdf.head(5))"
   ]
  },
  {
   "cell_type": "code",
   "execution_count": 10,
   "metadata": {
    "collapsed": false
   },
   "outputs": [
    {
     "data": {
      "text/html": [
       "<div>\n",
       "<table border=\"1\" class=\"dataframe\">\n",
       "  <thead>\n",
       "    <tr style=\"text-align: right;\">\n",
       "      <th></th>\n",
       "      <th>text</th>\n",
       "      <th>botornot</th>\n",
       "    </tr>\n",
       "  </thead>\n",
       "  <tbody>\n",
       "    <tr>\n",
       "      <th>0</th>\n",
       "      <td>\"RT @iLuvChanelle: Wow .. I didnt know this wa...</td>\n",
       "      <td>-1</td>\n",
       "    </tr>\n",
       "    <tr>\n",
       "      <th>1</th>\n",
       "      <td>\"Dont miss our event \\nWOMEN’S STRUGGLE IN THE...</td>\n",
       "      <td>-1</td>\n",
       "    </tr>\n",
       "    <tr>\n",
       "      <th>2</th>\n",
       "      <td>\"RT @Dxpth: Nahhh Im dead Theresa may get heck...</td>\n",
       "      <td>-1</td>\n",
       "    </tr>\n",
       "    <tr>\n",
       "      <th>3</th>\n",
       "      <td>\"Revealed: Inside the secretive Tory election ...</td>\n",
       "      <td>-1</td>\n",
       "    </tr>\n",
       "    <tr>\n",
       "      <th>4</th>\n",
       "      <td>\"RT @cath_haddon: Not so privately then... htt...</td>\n",
       "      <td>-1</td>\n",
       "    </tr>\n",
       "  </tbody>\n",
       "</table>\n",
       "</div>"
      ],
      "text/plain": [
       "                                                text  botornot\n",
       "0  \"RT @iLuvChanelle: Wow .. I didnt know this wa...        -1\n",
       "1  \"Dont miss our event \\nWOMEN’S STRUGGLE IN THE...        -1\n",
       "2  \"RT @Dxpth: Nahhh Im dead Theresa may get heck...        -1\n",
       "3  \"Revealed: Inside the secretive Tory election ...        -1\n",
       "4  \"RT @cath_haddon: Not so privately then... htt...        -1"
      ]
     },
     "execution_count": 10,
     "metadata": {},
     "output_type": "execute_result"
    }
   ],
   "source": [
    "#normaldf.to_csv(\"normaltweets.csv\", quotechar='\"')\n",
    "#botdf.to_csv(\"bottweets.csv\", quotechar='\"')\n",
    "test=pd.concat([normaldf,botdf])\n",
    "test.to_csv(\"/Users/halukamaier-borst/Documents/CardiffUniversity/Master Thesis/testdataBotorNot.csv\", quotechar='\"', index=False)\n",
    "test.head(5)"
   ]
  },
  {
   "cell_type": "code",
   "execution_count": 16,
   "metadata": {
    "collapsed": false
   },
   "outputs": [
    {
     "name": "stdout",
     "output_type": "stream",
     "text": [
      "                                                text  botornot\n",
      "0  \"RT @iLuvChanelle: Wow .. I didnt know this wa...        -1\n",
      "1  \"Dont miss our event \\nWOMEN’S STRUGGLE IN THE...        -1\n",
      "2  \"RT @Dxpth: Nahhh Im dead Theresa may get heck...        -1\n",
      "3  \"Revealed: Inside the secretive Tory election ...        -1\n",
      "4  \"RT @cath_haddon: Not so privately then... htt...        -1\n"
     ]
    }
   ],
   "source": [
    "data = pd.read_csv('/Users/halukamaier-borst/Documents/CardiffUniversity/Master Thesis/testdataBotorNot.csv', skipinitialspace = True, quotechar = '\"')\n",
    "print(data.head(5))\n",
    "dotcountlist=[]\n",
    "commacountlist=[]\n",
    "exclamationcountlist=[]\n",
    "wordcountlist=[]\n",
    "uppercasecountlist=[]\n",
    "lowercasecountlist=[]\n",
    "charcountlist=[]\n",
    "specialcharlist=[]\n",
    "numbercountlist=[]\n",
    "uniquewordlist=[]\n",
    "qmarkcountlist=[]\n",
    "apicescountlist=[]\n",
    "quotescountlist=[]\n",
    "openparlist=[]\n",
    "closeparlist=[]\n",
    "operatorlist=[]\n",
    "hashtagcountlist=[]\n",
    "dottycountlist=[]\n",
    "linkcountlist=[]\n",
    "\n",
    "a=0\n",
    "#for each cell in the text column of data\n",
    "\n",
    "for cell in (data['text']):\n",
    "    \n",
    "    a+=1\n",
    "    dotcount=0\n",
    "    commacount=0\n",
    "    qmarkcount=0\n",
    "    exclamationcount=0\n",
    "    wordcount=0\n",
    "    uppercasecount=0\n",
    "    lowercasecount=0\n",
    "    charcount=0\n",
    "    lr_classifier=0\n",
    "    specialchar=0\n",
    "    numbercount=0\n",
    "    cellwordlist=[]\n",
    "    uniqueword=0\n",
    "    qmarkcount=0\n",
    "    apicescount=0\n",
    "    quotescount=0\n",
    "    openparcount=0\n",
    "    closeparcount=0\n",
    "    operatorcount=0\n",
    "    hashtagcount=0\n",
    "    dottycount=0\n",
    "    linkcount=0\n",
    "\n",
    "\n",
    "    dotcount=cell.count(\".\")\n",
    "    commacount=cell.count(\",\")\n",
    "    exclamationcount=cell.count(\"!\")\n",
    "    qmarkcount=cell.count(\"?\")\n",
    "    apicescount=cell.count(\"'\")\n",
    "    quotescount=cell.count('\"')\n",
    "    openparcount=cell.count('(')\n",
    "    closeparcount=cell.count(')')\n",
    "    hashtagcount=cell.count('#')\n",
    "\n",
    "    \n",
    "    if a>10000:\n",
    "        break\n",
    "    else:\n",
    "\n",
    "        #for reach word in cell\n",
    "        for word in (cell.split()):\n",
    "            if word in cellwordlist:\n",
    "                continue\n",
    "            else:\n",
    "                cellwordlist.append(word)\n",
    "                uniqueword+=1\n",
    "            if re.search('\\.\\.\\.',word):\n",
    "                dottycount+=1\n",
    "            if re.search('http',word):\n",
    "                linkcount+=1\n",
    "                \n",
    "                \n",
    "            wordcount+=1\n",
    "            uppercaseword=word[1:]\n",
    "            for c in uppercaseword:\n",
    "                if c.istitle():\n",
    "                    uppercasecount+=1\n",
    "                    #print(word)\n",
    "                \n",
    "            for char in word:\n",
    "                charcount+=1\n",
    "                if re.match(\"[^a-zA-Z0-9]\", char):\n",
    "                    specialchar+=1\n",
    "                if re.match(\"[0-9]\", char):\n",
    "                    numbercount+=1\n",
    "                if char.islower():\n",
    "                    lowercasecount+=1\n",
    "                if re.match(\"[\\+\\/\\-\\*\\%\\=<>&]\", char):\n",
    "                    operatorcount+=1\n",
    "                \n",
    "        #print(cell)\n",
    "        #print(\"Dotcount: \" + str((dotcount)))\n",
    "        #print(\"Commacount: \"+ str(commacount))\n",
    "        #print(\"Exclamationcount: \"+ str(exclamationcount))\n",
    "        #print(\"Wordcount: \"+ str(wordcount))\n",
    "        #print(\"Uppercasecount \"+ str(uppercasecount))\n",
    "        #print(\"Charcount \"+ str(charcount))\n",
    "        dotcountlist.append(dotcount)\n",
    "        commacountlist.append(commacount)\n",
    "        exclamationcountlist.append(exclamationcount)\n",
    "        wordcountlist.append(wordcount)\n",
    "        uppercasecountlist.append(uppercasecount)\n",
    "        lowercasecountlist.append(lowercasecount)\n",
    "        charcountlist.append(charcount)\n",
    "        specialcharlist.append(specialchar)\n",
    "        numbercountlist.append(numbercount)\n",
    "        uniquewordlist.append(uniqueword)\n",
    "        qmarkcountlist.append(qmarkcount)\n",
    "        apicescountlist.append(apicescount)\n",
    "        quotescountlist.append(quotescount)\n",
    "        openparlist.append(openparcount)\n",
    "        closeparlist.append(closeparcount)\n",
    "        operatorlist.append(operatorcount)\n",
    "        hashtagcountlist.append(hashtagcount)\n",
    "        dottycountlist.append(dottycount)\n",
    "        linkcountlist.append(linkcount)\n",
    "\n",
    "\n",
    "row1=pd.DataFrame()\n",
    "row1[\"Dotcount\"]=dotcountlist\n",
    "row2=pd.DataFrame()\n",
    "row2[\"Commacount\"]=commacountlist\n",
    "row3=pd.DataFrame()\n",
    "row3[\"Exclcount\"]=exclamationcountlist\n",
    "row4=pd.DataFrame()\n",
    "row4[\"Wordcount\"]=wordcountlist\n",
    "row5=pd.DataFrame()\n",
    "row5[\"Uppercasecount\"]=uppercasecountlist\n",
    "row6=pd.DataFrame()\n",
    "row6[\"Lowercasecount\"]=lowercasecountlist\n",
    "row7=pd.DataFrame()\n",
    "row7[\"Specialchar\"]=specialcharlist\n",
    "row8=pd.DataFrame()\n",
    "row8[\"Numbercount\"]=numbercountlist\n",
    "row9=pd.DataFrame()\n",
    "row9[\"Charcount\"]=charcountlist\n",
    "row10=pd.DataFrame()\n",
    "row10[\"Uniquewords\"]=uniquewordlist\n",
    "row11=pd.DataFrame()\n",
    "row11[\"Qmarkcount\"]=qmarkcountlist\n",
    "row11=pd.DataFrame()\n",
    "row11[\"Apicescount\"]=apicescountlist\n",
    "row12=pd.DataFrame()\n",
    "row12[\"Quotescount\"]=quotescountlist\n",
    "row13=pd.DataFrame()\n",
    "row13[\"Openpar\"]=openparlist\n",
    "row14=pd.DataFrame()\n",
    "row14[\"Closepar\"]=closeparlist\n",
    "row15=pd.DataFrame()\n",
    "row15[\"Operatorcount\"]=operatorlist\n",
    "row16=pd.DataFrame()\n",
    "row16[\"Hashtagcount\"]=hashtagcountlist\n",
    "row17=pd.DataFrame()\n",
    "row17[\"Dottycount\"]=dottycountlist\n",
    "row18=pd.DataFrame()\n",
    "row18[\"Linkcount\"]=linkcountlist\n",
    "\n",
    "output=pd.concat([data, row1, row2, row3, row4, row5, row6, row7, row8, row9, row10, row11, row12, row13, row14, row15, row16, row17, row18],axis=1)\n",
    "output.to_csv('/Users/halukamaier-borst/Documents/CardiffUniversity/Master Thesis/testdata.csv', encoding='utf-8', index=False)"
   ]
  },
  {
   "cell_type": "code",
   "execution_count": null,
   "metadata": {
    "collapsed": false
   },
   "outputs": [
    {
     "name": "stdout",
     "output_type": "stream",
     "text": [
      "   Dotcount  Commacount  Exclcount  Wordcount  Uppercasecount  Lowercasecount  \\\n",
      "0       3.0         0.0        0.0       13.0            10.0            46.0   \n",
      "1       1.0         0.0        0.0       17.0            35.0            49.0   \n",
      "2       1.0         0.0        0.0       14.0             8.0            54.0   \n",
      "3       1.0         0.0        0.0        9.0             2.0            61.0   \n",
      "4       4.0         0.0        0.0        7.0             7.0            40.0   \n",
      "5       2.0         0.0        0.0       22.0            10.0            89.0   \n",
      "6       1.0         1.0        0.0       17.0             7.0           100.0   \n",
      "7       2.0         0.0        0.0       23.0            10.0            87.0   \n",
      "8       1.0         0.0        0.0       22.0             2.0           102.0   \n",
      "9       0.0         0.0        0.0       17.0             6.0           104.0   \n",
      "\n",
      "   Specialchar  Numbercount  Charcount  Uniquewords  Apicescount  Quotescount  \\\n",
      "0         12.0          1.0       71.0         13.0          0.0          2.0   \n",
      "1         12.0          7.0      110.0         17.0          0.0          2.0   \n",
      "2         10.0          1.0       76.0         14.0          0.0          2.0   \n",
      "3          8.0          1.0       74.0          9.0          0.0          2.0   \n",
      "4         13.0          0.0       61.0          7.0          0.0          2.0   \n",
      "5          9.0          2.0      112.0         22.0          0.0          2.0   \n",
      "6         11.0          0.0      122.0         17.0          0.0          2.0   \n",
      "7         12.0          3.0      119.0         23.0          0.0          2.0   \n",
      "8          8.0          2.0      117.0         22.0          0.0          2.0   \n",
      "9          6.0          0.0      121.0         17.0          0.0          2.0   \n",
      "\n",
      "   Openpar  Closepar  Operatorcount  Hashtagcount  Dottycount  Linkcount  \n",
      "0      0.0       0.0            3.0           0.0         0.0        1.0  \n",
      "1      0.0       0.0            3.0           0.0         0.0        1.0  \n",
      "2      0.0       0.0            3.0           0.0         0.0        1.0  \n",
      "3      0.0       0.0            3.0           0.0         0.0        1.0  \n",
      "4      0.0       0.0            3.0           0.0         1.0        1.0  \n",
      "5      0.0       0.0            3.0           0.0         0.0        1.0  \n",
      "6      0.0       0.0            3.0           0.0         0.0        1.0  \n",
      "7      0.0       0.0            4.0           0.0         0.0        1.0  \n",
      "8      0.0       0.0            1.0           0.0         0.0        0.0  \n",
      "9      0.0       0.0            0.0           0.0         0.0        0.0  \n",
      "18\n",
      "Dotcount : 0.0124391326124\n",
      "1\n",
      "Commacount : 0.00332402112291\n",
      "2\n"
     ]
    }
   ],
   "source": [
    "new_datareduced=output.ix[:,1]\n",
    "datareduced=output.ix[:,2:]\n",
    "print(datareduced.head(10))\n",
    "datareduced.describe()\n",
    "c=0\n",
    "limit=0\n",
    "for column in datareduced:\n",
    "    limit+=1\n",
    "print(limit)\n",
    "a=-1\n",
    "for column in datareduced:\n",
    "    lista=[]\n",
    "    a+=1\n",
    "    columnmean=((datareduced.ix[:, a]).mean())/datareduced['Charcount'].mean()\n",
    "    print(column,\":\" ,columnmean)\n",
    "    b=-1\n",
    "    for index, row in (datareduced.tail(20000)).iterrows():\n",
    "        b+=1\n",
    "        columnval=(datareduced.ix[b, a])\n",
    "        columnratio=columnval/datareduced.ix[b,'Charcount']\n",
    "        columnREL=(columnratio/columnmean)\n",
    "        lista.append(columnREL)\n",
    "    c+=1\n",
    "    print(c)\n",
    "    if c>limit:\n",
    "        print(\"Limit!\")\n",
    "        break\n",
    "    else:\n",
    "        column = pd.DataFrame({(column+\"REL\") : lista})\n",
    "        #print(column)\n",
    "        new_datareduced=pd.concat([new_datareduced, column], axis=1)\n",
    "        #print(datareduced)\n",
    "print(\"STOP!\")\n",
    "datareduced.to_csv('/Users/halukamaier-borst/Documents/CardiffUniversity/Master Thesis/testdataREL.csv', encoding='utf-8')"
   ]
  },
  {
   "cell_type": "code",
   "execution_count": 20,
   "metadata": {
    "collapsed": false
   },
   "outputs": [
    {
     "name": "stdout",
     "output_type": "stream",
     "text": [
      "   DotcountREL  CommacountREL  ExclcountREL  WordcountREL  UppercasecountREL  \\\n",
      "0     3.396822            0.0           0.0      1.090245           2.207238   \n",
      "1     0.730831            0.0           0.0      0.920228           4.986352   \n",
      "2     1.057782            0.0           0.0      1.096866           1.649620   \n",
      "3     1.086371            0.0           0.0      0.724186           0.423551   \n",
      "4     5.271571            0.0           0.0      0.683294           1.798356   \n",
      "\n",
      "   LowercasecountREL  SpecialcharREL  NumbercountREL  CharcountREL  \\\n",
      "0           0.819275        1.794786        0.837885           1.0   \n",
      "1           0.563292        1.158453        3.785718           1.0   \n",
      "2           0.898484        1.397257        0.782761           1.0   \n",
      "3           1.042385        1.148016        0.803917           1.0   \n",
      "4           0.829202        2.263098        0.000000           1.0   \n",
      "\n",
      "   UniquewordsREL  QuotescountREL  OpenparREL  CloseparREL  OperatorcountREL  \\\n",
      "0        1.090245        1.479203         0.0          0.0          2.227939   \n",
      "1        0.920228        0.954758         0.0          0.0          1.438033   \n",
      "2        1.096866        1.381887         0.0          0.0          2.081364   \n",
      "3        0.724186        1.419235         0.0          0.0          2.137617   \n",
      "4        0.683294        1.721695         0.0          0.0          2.593175   \n",
      "\n",
      "   HashtagcountREL  DottycountREL  LinkcountREL  \n",
      "0              0.0       0.000000      2.403254  \n",
      "1              0.0       0.000000      1.551191  \n",
      "2              0.0       0.000000      2.245145  \n",
      "3              0.0       0.000000      2.305825  \n",
      "4              0.0      30.152278      2.797230  \n"
     ]
    }
   ],
   "source": [
    "new_datareduced=new_datareduced.drop(\"ApicescountREL\", axis=1)\n",
    "\n",
    "print(new_datareduced.head(5))"
   ]
  },
  {
   "cell_type": "code",
   "execution_count": null,
   "metadata": {
    "collapsed": true
   },
   "outputs": [],
   "source": []
  }
 ],
 "metadata": {
  "kernelspec": {
   "display_name": "Python 3",
   "language": "python",
   "name": "python3"
  },
  "language_info": {
   "codemirror_mode": {
    "name": "ipython",
    "version": 3
   },
   "file_extension": ".py",
   "mimetype": "text/x-python",
   "name": "python",
   "nbconvert_exporter": "python",
   "pygments_lexer": "ipython3",
   "version": "3.5.2"
  }
 },
 "nbformat": 4,
 "nbformat_minor": 1
}
