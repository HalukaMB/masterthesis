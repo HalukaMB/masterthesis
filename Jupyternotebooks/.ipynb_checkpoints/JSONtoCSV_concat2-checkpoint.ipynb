{
 "cells": [
  {
   "cell_type": "code",
   "execution_count": 2,
   "metadata": {
    "collapsed": false
   },
   "outputs": [
    {
     "name": "stdout",
     "output_type": "stream",
     "text": [
      "ONE\n",
      "file number:  1\n"
     ]
    }
   ],
   "source": [
    "import csv, glob, re, io, json\n",
    "\n",
    "#week=[\"monday\",\"tuesday\",\"wednesday\",\"thursday\",\"friday\",\"saturday\",\"sunday\"]\n",
    "\n",
    "week=[1]\n",
    "for day in week:\n",
    "    day=\"ONE\"\n",
    "\n",
    "    print(day)\n",
    "    csv_out = io.open(\"/Users/halukamaier-borst/Documents/testfolder/\"+str(day)+\".csv\", mode='w', encoding='utf-8') #opens csv file\n",
    "\n",
    "    a=0\n",
    "    for file in glob.glob(\"/Users/halukamaier-borst/Documents/testfolder/\"+\"/*.json\"):\n",
    "        data_json = io.open(file, mode='r', encoding='utf-8').read()\n",
    "        #reads in the JSON file\n",
    "        try:\n",
    "            data_python = json.loads(data_json)\n",
    "        except ValueError:\n",
    "            data_python=\"\"\n",
    "        a+=1\n",
    "        print(\"file number: \", a)\n",
    "\n",
    "\n",
    "        fields = u'created_at,text,screen_name,followers,id,friends,rt,fav' #field names\n",
    "        csv_out.write(fields)\n",
    "        csv_out.write(u'\\n')\n",
    "\n",
    "        for line in data_python:\n",
    "\n",
    "                #writes a row and gets the fields from the json object\n",
    "                #screen_name and followers/friends are found on the second level hence two get methods\n",
    "                if line.get('text') != None:\n",
    "                    text=line.get('text')\n",
    "                    print(text)\n",
    "                    row = [line.get('created_at'),\n",
    "                           line.get('text'), #creates double quotes\n",
    "                           line.get('user').get('screen_name'),\n",
    "                           (line.get('user').get('followers_count')),\n",
    "                           (line.get('user').get('id')),\n",
    "                           (line.get('user').get('friends_count')),\n",
    "                           (line.get('retweet_count')),\n",
    "                           (line.get('favorite_count'))]\n",
    "\n",
    "                else:\n",
    "                    row=\"\"\n",
    "                row_joined = (str(row).strip('[').strip(']'))\n",
    "                csv_out.write(row_joined)\n",
    "                csv_out.write(u'\\n')\n",
    "\n",
    "\n",
    "    csv_out.close()\n"
   ]
  },
  {
   "cell_type": "code",
   "execution_count": null,
   "metadata": {
    "collapsed": true
   },
   "outputs": [],
   "source": []
  },
  {
   "cell_type": "code",
   "execution_count": null,
   "metadata": {
    "collapsed": true
   },
   "outputs": [],
   "source": []
  }
 ],
 "metadata": {
  "kernelspec": {
   "display_name": "Python 3",
   "language": "python",
   "name": "python3"
  },
  "language_info": {
   "codemirror_mode": {
    "name": "ipython",
    "version": 3
   },
   "file_extension": ".py",
   "mimetype": "text/x-python",
   "name": "python",
   "nbconvert_exporter": "python",
   "pygments_lexer": "ipython3",
   "version": "3.5.2"
  }
 },
 "nbformat": 4,
 "nbformat_minor": 1
}
