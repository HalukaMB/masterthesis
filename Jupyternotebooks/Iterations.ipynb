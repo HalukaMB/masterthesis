{
 "cells": [
  {
   "cell_type": "code",
   "execution_count": 3,
   "metadata": {
    "collapsed": false
   },
   "outputs": [
    {
     "name": "stdout",
     "output_type": "stream",
     "text": [
      "word0=[]\n",
      "word1=[]\n",
      "word2=[]\n",
      "word3=[]\n",
      "word4=[]\n",
      "word5=[]\n",
      "word6=[]\n",
      "word7=[]\n",
      "word8=[]\n",
      "word9=[]\n",
      "word10=[]\n",
      "word11=[]\n",
      "word12=[]\n",
      "word13=[]\n",
      "word14=[]\n",
      "word15=[]\n",
      "word16=[]\n",
      "word17=[]\n",
      "word18=[]\n",
      "word19=[]\n",
      "word20=[]\n",
      "word21=[]\n",
      "word22=[]\n",
      "word23=[]\n",
      "word24=[]\n"
     ]
    }
   ],
   "source": [
    "for i in range(25):\n",
    "    print(\"word\"+str(i)+\"=[]\")"
   ]
  },
  {
   "cell_type": "code",
   "execution_count": 18,
   "metadata": {
    "collapsed": false
   },
   "outputs": [
    {
     "name": "stdout",
     "output_type": "stream",
     "text": [
      "word0.append(charperwordlist.count(0))\n",
      "word1.append(charperwordlist.count(1))\n",
      "word2.append(charperwordlist.count(2))\n",
      "word3.append(charperwordlist.count(3))\n",
      "word4.append(charperwordlist.count(4))\n",
      "word5.append(charperwordlist.count(5))\n",
      "word6.append(charperwordlist.count(6))\n",
      "word7.append(charperwordlist.count(7))\n",
      "word8.append(charperwordlist.count(8))\n",
      "word9.append(charperwordlist.count(9))\n",
      "word10.append(charperwordlist.count(10))\n",
      "word11.append(charperwordlist.count(11))\n",
      "word12.append(charperwordlist.count(12))\n",
      "word13.append(charperwordlist.count(13))\n",
      "word14.append(charperwordlist.count(14))\n",
      "word15.append(charperwordlist.count(15))\n",
      "word16.append(charperwordlist.count(16))\n",
      "word17.append(charperwordlist.count(17))\n",
      "word18.append(charperwordlist.count(18))\n",
      "word19.append(charperwordlist.count(19))\n",
      "word20.append(charperwordlist.count(20))\n",
      "word21.append(charperwordlist.count(21))\n",
      "word22.append(charperwordlist.count(22))\n",
      "word23.append(charperwordlist.count(23))\n",
      "word24.append(charperwordlist.count(24))\n"
     ]
    }
   ],
   "source": [
    "for i in range(25):\n",
    "    print(\"word\"+str(i)+\".append(charperwordlist.count(\"+str(i)+\"))\")\n"
   ]
  },
  {
   "cell_type": "code",
   "execution_count": 21,
   "metadata": {
    "collapsed": false
   },
   "outputs": [
    {
     "name": "stdout",
     "output_type": "stream",
     "text": [
      "rowpd0=pd.DataFrame()\n",
      "rowpd0['word0']=word0\n",
      "rowpd1=pd.DataFrame()\n",
      "rowpd1['word1']=word1\n",
      "rowpd2=pd.DataFrame()\n",
      "rowpd2['word2']=word2\n",
      "rowpd3=pd.DataFrame()\n",
      "rowpd3['word3']=word3\n",
      "rowpd4=pd.DataFrame()\n",
      "rowpd4['word4']=word4\n",
      "rowpd5=pd.DataFrame()\n",
      "rowpd5['word5']=word5\n",
      "rowpd6=pd.DataFrame()\n",
      "rowpd6['word6']=word6\n",
      "rowpd7=pd.DataFrame()\n",
      "rowpd7['word7']=word7\n",
      "rowpd8=pd.DataFrame()\n",
      "rowpd8['word8']=word8\n",
      "rowpd9=pd.DataFrame()\n",
      "rowpd9['word9']=word9\n",
      "rowpd10=pd.DataFrame()\n",
      "rowpd10['word10']=word10\n",
      "rowpd11=pd.DataFrame()\n",
      "rowpd11['word11']=word11\n",
      "rowpd12=pd.DataFrame()\n",
      "rowpd12['word12']=word12\n",
      "rowpd13=pd.DataFrame()\n",
      "rowpd13['word13']=word13\n",
      "rowpd14=pd.DataFrame()\n",
      "rowpd14['word14']=word14\n",
      "rowpd15=pd.DataFrame()\n",
      "rowpd15['word15']=word15\n",
      "rowpd16=pd.DataFrame()\n",
      "rowpd16['word16']=word16\n",
      "rowpd17=pd.DataFrame()\n",
      "rowpd17['word17']=word17\n",
      "rowpd18=pd.DataFrame()\n",
      "rowpd18['word18']=word18\n",
      "rowpd19=pd.DataFrame()\n",
      "rowpd19['word19']=word19\n",
      "rowpd20=pd.DataFrame()\n",
      "rowpd20['word20']=word20\n",
      "rowpd21=pd.DataFrame()\n",
      "rowpd21['word21']=word21\n",
      "rowpd22=pd.DataFrame()\n",
      "rowpd22['word22']=word22\n",
      "rowpd23=pd.DataFrame()\n",
      "rowpd23['word23']=word23\n",
      "rowpd24=pd.DataFrame()\n",
      "rowpd24['word24']=word24\n"
     ]
    },
    {
     "ename": "NameError",
     "evalue": "name 'pd' is not defined",
     "output_type": "error",
     "traceback": [
      "\u001b[0;31m---------------------------------------------------------------------------\u001b[0m",
      "\u001b[0;31mNameError\u001b[0m                                 Traceback (most recent call last)",
      "\u001b[0;32m<ipython-input-21-7ce2e551ab54>\u001b[0m in \u001b[0;36m<module>\u001b[0;34m()\u001b[0m\n\u001b[1;32m      2\u001b[0m     \u001b[0mprint\u001b[0m\u001b[0;34m(\u001b[0m\u001b[0;34m\"rowpd\"\u001b[0m\u001b[0;34m+\u001b[0m\u001b[0mstr\u001b[0m\u001b[0;34m(\u001b[0m\u001b[0mi\u001b[0m\u001b[0;34m)\u001b[0m\u001b[0;34m+\u001b[0m\u001b[0;34m\"=pd.DataFrame()\"\u001b[0m\u001b[0;34m)\u001b[0m\u001b[0;34m\u001b[0m\u001b[0m\n\u001b[1;32m      3\u001b[0m     \u001b[0mprint\u001b[0m\u001b[0;34m(\u001b[0m\u001b[0;34m\"rowpd\"\u001b[0m\u001b[0;34m+\u001b[0m\u001b[0mstr\u001b[0m\u001b[0;34m(\u001b[0m\u001b[0mi\u001b[0m\u001b[0;34m)\u001b[0m\u001b[0;34m+\u001b[0m\u001b[0;34m\"['\"\u001b[0m\u001b[0;34m+\u001b[0m\u001b[0;34m\"word\"\u001b[0m\u001b[0;34m+\u001b[0m\u001b[0mstr\u001b[0m\u001b[0;34m(\u001b[0m\u001b[0mi\u001b[0m\u001b[0;34m)\u001b[0m\u001b[0;34m+\u001b[0m\u001b[0;34m\"']\"\u001b[0m\u001b[0;34m+\u001b[0m\u001b[0;34m\"=word\"\u001b[0m\u001b[0;34m+\u001b[0m\u001b[0mstr\u001b[0m\u001b[0;34m(\u001b[0m\u001b[0mi\u001b[0m\u001b[0;34m)\u001b[0m\u001b[0;34m)\u001b[0m\u001b[0;34m\u001b[0m\u001b[0m\n\u001b[0;32m----> 4\u001b[0;31m \u001b[0mrow1\u001b[0m\u001b[0;34m=\u001b[0m\u001b[0mpd\u001b[0m\u001b[0;34m.\u001b[0m\u001b[0mDataFrame\u001b[0m\u001b[0;34m(\u001b[0m\u001b[0;34m)\u001b[0m\u001b[0;34m\u001b[0m\u001b[0m\n\u001b[0m\u001b[1;32m      5\u001b[0m \u001b[0mrow1\u001b[0m\u001b[0;34m[\u001b[0m\u001b[0;34m\"Dotcount\"\u001b[0m\u001b[0;34m]\u001b[0m\u001b[0;34m=\u001b[0m\u001b[0mdotcountlist\u001b[0m\u001b[0;34m\u001b[0m\u001b[0m\n",
      "\u001b[0;31mNameError\u001b[0m: name 'pd' is not defined"
     ]
    }
   ],
   "source": [
    "for i in range(25):\n",
    "    print(\"rowpd\"+str(i)+\"=pd.DataFrame()\")\n",
    "    print(\"rowpd\"+str(i)+\"['\"+\"word\"+str(i)+\"']\"+\"=word\"+str(i))\n",
    "row1=pd.DataFrame()\n",
    "row1[\"Dotcount\"]=dotcountlist"
   ]
  },
  {
   "cell_type": "code",
   "execution_count": 19,
   "metadata": {
    "collapsed": false
   },
   "outputs": [
    {
     "name": "stdout",
     "output_type": "stream",
     "text": [
      "['rowpd1, ', 'rowpd2, ', 'rowpd3, ', 'rowpd4, ', 'rowpd5, ', 'rowpd6, ', 'rowpd7, ', 'rowpd8, ', 'rowpd9, ', 'rowpd10, ', 'rowpd11, ', 'rowpd12, ', 'rowpd13, ', 'rowpd14, ', 'rowpd15, ', 'rowpd16, ', 'rowpd17, ', 'rowpd18, ', 'rowpd19, ', 'rowpd20, ', 'rowpd21, ', 'rowpd22, ', 'rowpd23, ', 'rowpd24, ']\n"
     ]
    }
   ],
   "source": [
    "lista=[]\n",
    "for i in range(24):\n",
    "    lista.append(\"rowpd\"+str(i+1)+\", \")\n",
    "print(lista)"
   ]
  },
  {
   "cell_type": "code",
   "execution_count": 20,
   "metadata": {
    "collapsed": false
   },
   "outputs": [
    {
     "name": "stdout",
     "output_type": "stream",
     "text": [
      "rowpd1, rowpd2, rowpd3, rowpd4, rowpd5, rowpd6, rowpd7, rowpd8, rowpd9, rowpd10, rowpd11, rowpd12, rowpd13, rowpd14, rowpd15, rowpd16, rowpd17, rowpd18, rowpd19, rowpd20, rowpd21, rowpd22, rowpd23, rowpd24, \n"
     ]
    }
   ],
   "source": [
    "g1=\"\"\n",
    "g1 = g1.join(lista)\n",
    "print(g1)"
   ]
  },
  {
   "cell_type": "code",
   "execution_count": null,
   "metadata": {
    "collapsed": true
   },
   "outputs": [],
   "source": []
  }
 ],
 "metadata": {
  "kernelspec": {
   "display_name": "Python 3",
   "language": "python",
   "name": "python3"
  },
  "language_info": {
   "codemirror_mode": {
    "name": "ipython",
    "version": 3
   },
   "file_extension": ".py",
   "mimetype": "text/x-python",
   "name": "python",
   "nbconvert_exporter": "python",
   "pygments_lexer": "ipython3",
   "version": "3.5.2"
  }
 },
 "nbformat": 4,
 "nbformat_minor": 1
}
