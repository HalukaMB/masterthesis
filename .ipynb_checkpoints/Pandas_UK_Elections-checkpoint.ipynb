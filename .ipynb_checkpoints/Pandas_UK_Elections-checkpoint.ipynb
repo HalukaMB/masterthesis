{
 "cells": [
  {
   "cell_type": "code",
   "execution_count": 4,
   "metadata": {
    "collapsed": true
   },
   "outputs": [],
   "source": [
    "import pandas as pd"
   ]
  },
  {
   "cell_type": "code",
   "execution_count": 5,
   "metadata": {
    "collapsed": false,
    "scrolled": true
   },
   "outputs": [
    {
     "data": {
      "text/html": [
       "<div>\n",
       "<table border=\"1\" class=\"dataframe\">\n",
       "  <thead>\n",
       "    <tr style=\"text-align: right;\">\n",
       "      <th></th>\n",
       "      <th>created_at</th>\n",
       "      <th>text</th>\n",
       "      <th>screen_name</th>\n",
       "      <th>followers</th>\n",
       "      <th>friends</th>\n",
       "      <th>rt</th>\n",
       "      <th>fav</th>\n",
       "    </tr>\n",
       "  </thead>\n",
       "  <tbody>\n",
       "    <tr>\n",
       "      <th>0</th>\n",
       "      <td>Mon Jun 05 12:54:08 +0000 2017</td>\n",
       "      <td>\"RT @Conservatives: RETWEET to show your suppo...</td>\n",
       "      <td>Luke_J_Davidson</td>\n",
       "      <td>144</td>\n",
       "      <td>392</td>\n",
       "      <td>0</td>\n",
       "      <td>0</td>\n",
       "    </tr>\n",
       "    <tr>\n",
       "      <th>1</th>\n",
       "      <td>Mon Jun 05 12:54:08 +0000 2017</td>\n",
       "      <td>\"RT @ThomasPride: Top Tories publicly SQUABBLE...</td>\n",
       "      <td>BelovedLadyLove</td>\n",
       "      <td>367</td>\n",
       "      <td>361</td>\n",
       "      <td>0</td>\n",
       "      <td>0</td>\n",
       "    </tr>\n",
       "    <tr>\n",
       "      <th>2</th>\n",
       "      <td>Mon Jun 05 12:54:08 +0000 2017</td>\n",
       "      <td>\"Dont want to vote for any of them in #GE2017 ...</td>\n",
       "      <td>IanPethick</td>\n",
       "      <td>69</td>\n",
       "      <td>537</td>\n",
       "      <td>0</td>\n",
       "      <td>0</td>\n",
       "    </tr>\n",
       "    <tr>\n",
       "      <th>3</th>\n",
       "      <td>Mon Jun 05 12:54:08 +0000 2017</td>\n",
       "      <td>\"Yes then Corbyn https://t.co/rzBZtSiRV6\"</td>\n",
       "      <td>_tayonnaise</td>\n",
       "      <td>1022</td>\n",
       "      <td>2359</td>\n",
       "      <td>0</td>\n",
       "      <td>0</td>\n",
       "    </tr>\n",
       "    <tr>\n",
       "      <th>4</th>\n",
       "      <td>Mon Jun 05 12:54:08 +0000 2017</td>\n",
       "      <td>\"RT @ReclaimTheNews: Billboard posters of Ther...</td>\n",
       "      <td>canary_burgundy</td>\n",
       "      <td>3534</td>\n",
       "      <td>1781</td>\n",
       "      <td>0</td>\n",
       "      <td>0</td>\n",
       "    </tr>\n",
       "  </tbody>\n",
       "</table>\n",
       "</div>"
      ],
      "text/plain": [
       "                       created_at  \\\n",
       "0  Mon Jun 05 12:54:08 +0000 2017   \n",
       "1  Mon Jun 05 12:54:08 +0000 2017   \n",
       "2  Mon Jun 05 12:54:08 +0000 2017   \n",
       "3  Mon Jun 05 12:54:08 +0000 2017   \n",
       "4  Mon Jun 05 12:54:08 +0000 2017   \n",
       "\n",
       "                                                text      screen_name  \\\n",
       "0  \"RT @Conservatives: RETWEET to show your suppo...  Luke_J_Davidson   \n",
       "1  \"RT @ThomasPride: Top Tories publicly SQUABBLE...  BelovedLadyLove   \n",
       "2  \"Dont want to vote for any of them in #GE2017 ...       IanPethick   \n",
       "3          \"Yes then Corbyn https://t.co/rzBZtSiRV6\"      _tayonnaise   \n",
       "4  \"RT @ReclaimTheNews: Billboard posters of Ther...  canary_burgundy   \n",
       "\n",
       "   followers  friends  rt  fav  \n",
       "0        144      392   0    0  \n",
       "1        367      361   0    0  \n",
       "2         69      537   0    0  \n",
       "3       1022     2359   0    0  \n",
       "4       3534     1781   0    0  "
      ]
     },
     "execution_count": 5,
     "metadata": {},
     "output_type": "execute_result"
    }
   ],
   "source": [
    "data = pd.read_csv('JeremyTheresa_tweets_big_out_utf8.csv', delimiter=\",\", quotechar=\"'\")\n",
    "data.head(5)"
   ]
  },
  {
   "cell_type": "code",
   "execution_count": 6,
   "metadata": {
    "collapsed": false
   },
   "outputs": [
    {
     "name": "stdout",
     "output_type": "stream",
     "text": [
      "  Lemma/_writtenForm Sense/Confidence/_level  Sense/MonolingualExternalRef  \\\n",
      "1        abandonment                  manual                           NaN   \n",
      "2            abandon                  manual                           NaN   \n",
      "3              abase                  manual                           NaN   \n",
      "4          abasement                  manual                           NaN   \n",
      "\n",
      "  Sense/Sentiment/_polarity Sense/Sentiment/_strength  Sense/Domain  _id  \\\n",
      "1                  negative                   average           NaN  NaN   \n",
      "2                  negative                   average           NaN  NaN   \n",
      "3                  negative                    strong           NaN  NaN   \n",
      "4                  negative                    strong           NaN  NaN   \n",
      "\n",
      "  _partOfSpeech  \n",
      "1          noun  \n",
      "2          verb  \n",
      "3          verb  \n",
      "4         other  \n"
     ]
    }
   ],
   "source": [
    "lex = pd.read_csv('englishconvert.csv', delimiter=\",\", quotechar=\"'\")\n",
    "lex.head(5)\n",
    "print(lex[1:5])\n"
   ]
  },
  {
   "cell_type": "code",
   "execution_count": 7,
   "metadata": {
    "collapsed": false
   },
   "outputs": [
    {
     "name": "stdout",
     "output_type": "stream",
     "text": [
      "     Lemma/_writtenForm Sense/Sentiment/_polarity Sense/Sentiment/_strength\n",
      "0             abandoned                  negative                   average\n",
      "1           abandonment                  negative                   average\n",
      "2               abandon                  negative                   average\n",
      "3                 abase                  negative                    strong\n",
      "4             abasement                  negative                    strong\n",
      "5                 abash                  negative                    strong\n",
      "6                 abate                  negative                   average\n",
      "7              abdicate                  negative                   average\n",
      "8            aberration                  negative                    strong\n",
      "9            aberration                  negative                    strong\n",
      "10                abhor                  negative                    strong\n",
      "11                abhor                  negative                    strong\n",
      "12             abhorred                  negative                    strong\n",
      "13           abhorrence                  negative                    strong\n",
      "14            abhorrent                  negative                    strong\n",
      "15          abhorrently                  negative                    strong\n",
      "16               abhors                  negative                    strong\n",
      "17               abhors                  negative                    strong\n",
      "18             abidance                  positive                    strong\n",
      "19             abidance                  positive                    strong\n",
      "20                abide                  positive                    strong\n",
      "21               abject                  negative                    strong\n",
      "22             abjectly                  negative                    strong\n",
      "23               abjure                  negative                   average\n",
      "24            abilities                  positive                   average\n",
      "25              ability                  positive                   average\n",
      "26                 able                  positive                   average\n",
      "27             abnormal                  negative                   average\n",
      "28              abolish                  negative                   average\n",
      "29           abominable                  negative                    strong\n",
      "...                 ...                       ...                       ...\n",
      "8191              wrest                  negative                    strong\n",
      "8192            wrestle                  negative                   average\n",
      "8193             wretch                  negative                    strong\n",
      "8194           wretched                  negative                    strong\n",
      "8195         wretchedly                  negative                    strong\n",
      "8196       wretchedness                  negative                    strong\n",
      "8197             writhe                  negative                   average\n",
      "8198              wrong                  negative                   average\n",
      "8199              wrong                  negative                   average\n",
      "8200           wrongful                  negative                   average\n",
      "8201            wrongly                  negative                    strong\n",
      "8202            wrought                  negative                   average\n",
      "8203            wrought                  negative                   average\n",
      "8204                wry                  positive                    strong\n",
      "8205               yawn                  negative                    strong\n",
      "8206               yawn                  negative                    strong\n",
      "8207               yeah                   neutral                    strong\n",
      "8208              yearn                  positive                    strong\n",
      "8209           yearning                  positive                    strong\n",
      "8210         yearningly                  positive                    strong\n",
      "8211               yelp                  negative                    strong\n",
      "8212                yep                  positive                    strong\n",
      "8213                yes                  positive                    strong\n",
      "8214           youthful                  positive                   average\n",
      "8215               zeal                  positive                    strong\n",
      "8216             zealot                  negative                    strong\n",
      "8217            zealous                  negative                    strong\n",
      "8218          zealously                  negative                    strong\n",
      "8219             zenith                  positive                    strong\n",
      "8220               zest                  positive                    strong\n",
      "\n",
      "[8221 rows x 3 columns]\n"
     ]
    }
   ],
   "source": [
    "new_lex=pd.concat([lex['Lemma/_writtenForm'], lex['Sense/Sentiment/_polarity'], lex['Sense/Sentiment/_strength']],axis=1) \n",
    "print(new_lex)"
   ]
  },
  {
   "cell_type": "code",
   "execution_count": 8,
   "metadata": {
    "collapsed": false,
    "scrolled": true
   },
   "outputs": [
    {
     "name": "stdout",
     "output_type": "stream",
     "text": [
      "0      abandoned\n",
      "1    abandonment\n",
      "2        abandon\n",
      "3          abase\n",
      "4      abasement\n",
      "Name: Lemma/_writtenForm, dtype: object\n"
     ]
    }
   ],
   "source": [
    "print(lex['Lemma/_writtenForm'][0:5]) "
   ]
  },
  {
   "cell_type": "code",
   "execution_count": 11,
   "metadata": {
    "collapsed": false
   },
   "outputs": [
    {
     "name": "stdout",
     "output_type": "stream",
     "text": [
      "Lemma/_writtenForm\n",
      "Sense/Sentiment/_polarity\n",
      "Sense/Sentiment/_strength\n"
     ]
    }
   ],
   "source": [
    "#for cell in (data['text']):\n",
    " #   for word in (cell.split()):\n",
    "for row in new_lex:\n",
    "    print(row)"
   ]
  },
  {
   "cell_type": "code",
   "execution_count": 23,
   "metadata": {
    "collapsed": false
   },
   "outputs": [
    {
     "name": "stdout",
     "output_type": "stream",
     "text": [
      "3.5\n",
      "0.5\n",
      "1.0\n",
      "0\n"
     ]
    },
    {
     "ename": "KeyboardInterrupt",
     "evalue": "",
     "output_type": "error",
     "traceback": [
      "\u001b[0;31m---------------------------------------------------------------------------\u001b[0m",
      "\u001b[0;31mKeyboardInterrupt\u001b[0m                         Traceback (most recent call last)",
      "\u001b[0;32m<ipython-input-23-060a98dfc276>\u001b[0m in \u001b[0;36m<module>\u001b[0;34m()\u001b[0m\n\u001b[1;32m      4\u001b[0m     \u001b[0;32mfor\u001b[0m \u001b[0mword\u001b[0m \u001b[0;32min\u001b[0m \u001b[0;34m(\u001b[0m\u001b[0mcell\u001b[0m\u001b[0;34m.\u001b[0m\u001b[0msplit\u001b[0m\u001b[0;34m(\u001b[0m\u001b[0;34m)\u001b[0m\u001b[0;34m)\u001b[0m\u001b[0;34m:\u001b[0m\u001b[0;34m\u001b[0m\u001b[0m\n\u001b[1;32m      5\u001b[0m         \u001b[0mratingfactor\u001b[0m\u001b[0;34m=\u001b[0m\u001b[0;36m0\u001b[0m\u001b[0;34m\u001b[0m\u001b[0m\n\u001b[0;32m----> 6\u001b[0;31m         \u001b[0;32mfor\u001b[0m \u001b[0mindex\u001b[0m\u001b[0;34m,\u001b[0m \u001b[0mrow\u001b[0m \u001b[0;32min\u001b[0m \u001b[0;34m(\u001b[0m\u001b[0mnew_lex\u001b[0m\u001b[0;34m)\u001b[0m\u001b[0;34m.\u001b[0m\u001b[0miterrows\u001b[0m\u001b[0;34m(\u001b[0m\u001b[0;34m)\u001b[0m\u001b[0;34m:\u001b[0m\u001b[0;34m\u001b[0m\u001b[0m\n\u001b[0m\u001b[1;32m      7\u001b[0m             \u001b[0;32mif\u001b[0m \u001b[0mword\u001b[0m \u001b[0;34m==\u001b[0m \u001b[0mrow\u001b[0m\u001b[0;34m[\u001b[0m\u001b[0;34m\"Lemma/_writtenForm\"\u001b[0m\u001b[0;34m]\u001b[0m\u001b[0;34m:\u001b[0m\u001b[0;34m\u001b[0m\u001b[0m\n\u001b[1;32m      8\u001b[0m                 \u001b[0mwordcount\u001b[0m\u001b[0;34m+=\u001b[0m\u001b[0;36m1\u001b[0m\u001b[0;34m\u001b[0m\u001b[0m\n",
      "\u001b[0;32m/Library/Frameworks/Python.framework/Versions/3.5/lib/python3.5/site-packages/pandas/core/frame.py\u001b[0m in \u001b[0;36miterrows\u001b[0;34m(self)\u001b[0m\n\u001b[1;32m    697\u001b[0m         \u001b[0mklass\u001b[0m \u001b[0;34m=\u001b[0m \u001b[0mself\u001b[0m\u001b[0;34m.\u001b[0m\u001b[0m_constructor_sliced\u001b[0m\u001b[0;34m\u001b[0m\u001b[0m\n\u001b[1;32m    698\u001b[0m         \u001b[0;32mfor\u001b[0m \u001b[0mk\u001b[0m\u001b[0;34m,\u001b[0m \u001b[0mv\u001b[0m \u001b[0;32min\u001b[0m \u001b[0mzip\u001b[0m\u001b[0;34m(\u001b[0m\u001b[0mself\u001b[0m\u001b[0;34m.\u001b[0m\u001b[0mindex\u001b[0m\u001b[0;34m,\u001b[0m \u001b[0mself\u001b[0m\u001b[0;34m.\u001b[0m\u001b[0mvalues\u001b[0m\u001b[0;34m)\u001b[0m\u001b[0;34m:\u001b[0m\u001b[0;34m\u001b[0m\u001b[0m\n\u001b[0;32m--> 699\u001b[0;31m             \u001b[0ms\u001b[0m \u001b[0;34m=\u001b[0m \u001b[0mklass\u001b[0m\u001b[0;34m(\u001b[0m\u001b[0mv\u001b[0m\u001b[0;34m,\u001b[0m \u001b[0mindex\u001b[0m\u001b[0;34m=\u001b[0m\u001b[0mcolumns\u001b[0m\u001b[0;34m,\u001b[0m \u001b[0mname\u001b[0m\u001b[0;34m=\u001b[0m\u001b[0mk\u001b[0m\u001b[0;34m)\u001b[0m\u001b[0;34m\u001b[0m\u001b[0m\n\u001b[0m\u001b[1;32m    700\u001b[0m             \u001b[0;32myield\u001b[0m \u001b[0mk\u001b[0m\u001b[0;34m,\u001b[0m \u001b[0ms\u001b[0m\u001b[0;34m\u001b[0m\u001b[0m\n\u001b[1;32m    701\u001b[0m \u001b[0;34m\u001b[0m\u001b[0m\n",
      "\u001b[0;32m/Library/Frameworks/Python.framework/Versions/3.5/lib/python3.5/site-packages/pandas/core/series.py\u001b[0m in \u001b[0;36m__init__\u001b[0;34m(self, data, index, dtype, name, copy, fastpath)\u001b[0m\n\u001b[1;32m    243\u001b[0m                                        raise_cast_failure=True)\n\u001b[1;32m    244\u001b[0m \u001b[0;34m\u001b[0m\u001b[0m\n\u001b[0;32m--> 245\u001b[0;31m                 \u001b[0mdata\u001b[0m \u001b[0;34m=\u001b[0m \u001b[0mSingleBlockManager\u001b[0m\u001b[0;34m(\u001b[0m\u001b[0mdata\u001b[0m\u001b[0;34m,\u001b[0m \u001b[0mindex\u001b[0m\u001b[0;34m,\u001b[0m \u001b[0mfastpath\u001b[0m\u001b[0;34m=\u001b[0m\u001b[0;32mTrue\u001b[0m\u001b[0;34m)\u001b[0m\u001b[0;34m\u001b[0m\u001b[0m\n\u001b[0m\u001b[1;32m    246\u001b[0m \u001b[0;34m\u001b[0m\u001b[0m\n\u001b[1;32m    247\u001b[0m         \u001b[0mgeneric\u001b[0m\u001b[0;34m.\u001b[0m\u001b[0mNDFrame\u001b[0m\u001b[0;34m.\u001b[0m\u001b[0m__init__\u001b[0m\u001b[0;34m(\u001b[0m\u001b[0mself\u001b[0m\u001b[0;34m,\u001b[0m \u001b[0mdata\u001b[0m\u001b[0;34m,\u001b[0m \u001b[0mfastpath\u001b[0m\u001b[0;34m=\u001b[0m\u001b[0;32mTrue\u001b[0m\u001b[0;34m)\u001b[0m\u001b[0;34m\u001b[0m\u001b[0m\n",
      "\u001b[0;32m/Library/Frameworks/Python.framework/Versions/3.5/lib/python3.5/site-packages/pandas/core/internals.py\u001b[0m in \u001b[0;36m__init__\u001b[0;34m(self, block, axis, do_integrity_check, fastpath)\u001b[0m\n\u001b[1;32m   4031\u001b[0m     \u001b[0;32mdef\u001b[0m \u001b[0m__init__\u001b[0m\u001b[0;34m(\u001b[0m\u001b[0mself\u001b[0m\u001b[0;34m,\u001b[0m \u001b[0mblock\u001b[0m\u001b[0;34m,\u001b[0m \u001b[0maxis\u001b[0m\u001b[0;34m,\u001b[0m \u001b[0mdo_integrity_check\u001b[0m\u001b[0;34m=\u001b[0m\u001b[0;32mFalse\u001b[0m\u001b[0;34m,\u001b[0m \u001b[0mfastpath\u001b[0m\u001b[0;34m=\u001b[0m\u001b[0;32mFalse\u001b[0m\u001b[0;34m)\u001b[0m\u001b[0;34m:\u001b[0m\u001b[0;34m\u001b[0m\u001b[0m\n\u001b[1;32m   4032\u001b[0m \u001b[0;34m\u001b[0m\u001b[0m\n\u001b[0;32m-> 4033\u001b[0;31m         \u001b[0;32mif\u001b[0m \u001b[0misinstance\u001b[0m\u001b[0;34m(\u001b[0m\u001b[0maxis\u001b[0m\u001b[0;34m,\u001b[0m \u001b[0mlist\u001b[0m\u001b[0;34m)\u001b[0m\u001b[0;34m:\u001b[0m\u001b[0;34m\u001b[0m\u001b[0m\n\u001b[0m\u001b[1;32m   4034\u001b[0m             \u001b[0;32mif\u001b[0m \u001b[0mlen\u001b[0m\u001b[0;34m(\u001b[0m\u001b[0maxis\u001b[0m\u001b[0;34m)\u001b[0m \u001b[0;34m!=\u001b[0m \u001b[0;36m1\u001b[0m\u001b[0;34m:\u001b[0m\u001b[0;34m\u001b[0m\u001b[0m\n\u001b[1;32m   4035\u001b[0m                 raise ValueError(\"cannot create SingleBlockManager with more \"\n",
      "\u001b[0;31mKeyboardInterrupt\u001b[0m: "
     ]
    }
   ],
   "source": [
    "for cell in (data['text']):\n",
    "    cellrating=0\n",
    "    wordcount=0\n",
    "    for word in (cell.split()):\n",
    "        ratingfactor=0\n",
    "        for index, row in (new_lex).iterrows():\n",
    "            if word == row[\"Lemma/_writtenForm\"]:\n",
    "                wordcount+=1\n",
    "                if row[\"Sense/Sentiment/_polarity\"]==\"neutral\":\n",
    "                    ratingfactor=0\n",
    "                if row[\"Sense/Sentiment/_polarity\"]==\"positive\":\n",
    "                    ratingfactor=1\n",
    "                if row[\"Sense/Sentiment/_polarity\"]==\"negative\":\n",
    "                    ratingfactor=-1\n",
    "                if row[\"Sense/Sentiment/_strength\"]==\"average\":\n",
    "                    rating=0.5\n",
    "                if row[\"Sense/Sentiment/_strength\"]==\"strong\":\n",
    "                    rating=1\n",
    "                cellrating=cellrating+(ratingfactor*rating)\n",
    "    cellaverage=(cellrating/wordcount)\n",
    "    print(cellaverage)"
   ]
  },
  {
   "cell_type": "code",
   "execution_count": null,
   "metadata": {
    "collapsed": true
   },
   "outputs": [],
   "source": []
  }
 ],
 "metadata": {
  "kernelspec": {
   "display_name": "Python 3",
   "language": "python",
   "name": "python3"
  },
  "language_info": {
   "codemirror_mode": {
    "name": "ipython",
    "version": 3
   },
   "file_extension": ".py",
   "mimetype": "text/x-python",
   "name": "python",
   "nbconvert_exporter": "python",
   "pygments_lexer": "ipython3",
   "version": "3.5.2"
  }
 },
 "nbformat": 4,
 "nbformat_minor": 1
}
