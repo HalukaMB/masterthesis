{
 "cells": [
  {
   "cell_type": "code",
   "execution_count": 13,
   "metadata": {
    "collapsed": false
   },
   "outputs": [
    {
     "name": "stdout",
     "output_type": "stream",
     "text": [
      "Ich\n",
      "Hey\n",
      ".\n",
      "hab\n",
      "Hey\n",
      "Gold\n",
      "Hey\n",
      "wie\n",
      "Hey\n",
      "ein\n",
      "Hey\n",
      "Pharao\n",
      "Hey\n",
      "cahttp://...\n",
      "Hey\n"
     ]
    }
   ],
   "source": [
    "import re\n",
    "string=\"Ich . hab Gold wie ein Pharao cahttp://...\"\n",
    "\n",
    "for word in (string.split()):\n",
    "    print(word)\n",
    "    if re.search(\"...\",word):\n",
    "        print(\"Hey\")"
   ]
  },
  {
   "cell_type": "code",
   "execution_count": null,
   "metadata": {
    "collapsed": true
   },
   "outputs": [],
   "source": []
  }
 ],
 "metadata": {
  "kernelspec": {
   "display_name": "Python 3",
   "language": "python",
   "name": "python3"
  },
  "language_info": {
   "codemirror_mode": {
    "name": "ipython",
    "version": 3
   },
   "file_extension": ".py",
   "mimetype": "text/x-python",
   "name": "python",
   "nbconvert_exporter": "python",
   "pygments_lexer": "ipython3",
   "version": "3.5.2"
  }
 },
 "nbformat": 4,
 "nbformat_minor": 1
}
